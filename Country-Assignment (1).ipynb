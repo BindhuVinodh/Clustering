{
 "cells": [
  {
   "cell_type": "code",
   "execution_count": 211,
   "metadata": {},
   "outputs": [],
   "source": [
    "#Read the input file\n",
    "\n",
    "import pandas as pd\n",
    "\n",
    "df = pd.read_csv('Country-data.csv')"
   ]
  },
  {
   "cell_type": "code",
   "execution_count": 213,
   "metadata": {},
   "outputs": [
    {
     "data": {
      "text/html": [
       "<div>\n",
       "<style scoped>\n",
       "    .dataframe tbody tr th:only-of-type {\n",
       "        vertical-align: middle;\n",
       "    }\n",
       "\n",
       "    .dataframe tbody tr th {\n",
       "        vertical-align: top;\n",
       "    }\n",
       "\n",
       "    .dataframe thead th {\n",
       "        text-align: right;\n",
       "    }\n",
       "</style>\n",
       "<table border=\"1\" class=\"dataframe\">\n",
       "  <thead>\n",
       "    <tr style=\"text-align: right;\">\n",
       "      <th></th>\n",
       "      <th>country</th>\n",
       "      <th>child_mort</th>\n",
       "      <th>exports</th>\n",
       "      <th>health</th>\n",
       "      <th>imports</th>\n",
       "      <th>income</th>\n",
       "      <th>inflation</th>\n",
       "      <th>life_expec</th>\n",
       "      <th>total_fer</th>\n",
       "      <th>gdpp</th>\n",
       "    </tr>\n",
       "  </thead>\n",
       "  <tbody>\n",
       "    <tr>\n",
       "      <th>0</th>\n",
       "      <td>Afghanistan</td>\n",
       "      <td>90.2</td>\n",
       "      <td>10.0</td>\n",
       "      <td>7.58</td>\n",
       "      <td>44.9</td>\n",
       "      <td>1610</td>\n",
       "      <td>9.44</td>\n",
       "      <td>56.2</td>\n",
       "      <td>5.82</td>\n",
       "      <td>553</td>\n",
       "    </tr>\n",
       "    <tr>\n",
       "      <th>1</th>\n",
       "      <td>Albania</td>\n",
       "      <td>16.6</td>\n",
       "      <td>28.0</td>\n",
       "      <td>6.55</td>\n",
       "      <td>48.6</td>\n",
       "      <td>9930</td>\n",
       "      <td>4.49</td>\n",
       "      <td>76.3</td>\n",
       "      <td>1.65</td>\n",
       "      <td>4090</td>\n",
       "    </tr>\n",
       "    <tr>\n",
       "      <th>2</th>\n",
       "      <td>Algeria</td>\n",
       "      <td>27.3</td>\n",
       "      <td>38.4</td>\n",
       "      <td>4.17</td>\n",
       "      <td>31.4</td>\n",
       "      <td>12900</td>\n",
       "      <td>16.10</td>\n",
       "      <td>76.5</td>\n",
       "      <td>2.89</td>\n",
       "      <td>4460</td>\n",
       "    </tr>\n",
       "    <tr>\n",
       "      <th>3</th>\n",
       "      <td>Angola</td>\n",
       "      <td>119.0</td>\n",
       "      <td>62.3</td>\n",
       "      <td>2.85</td>\n",
       "      <td>42.9</td>\n",
       "      <td>5900</td>\n",
       "      <td>22.40</td>\n",
       "      <td>60.1</td>\n",
       "      <td>6.16</td>\n",
       "      <td>3530</td>\n",
       "    </tr>\n",
       "    <tr>\n",
       "      <th>4</th>\n",
       "      <td>Antigua and Barbuda</td>\n",
       "      <td>10.3</td>\n",
       "      <td>45.5</td>\n",
       "      <td>6.03</td>\n",
       "      <td>58.9</td>\n",
       "      <td>19100</td>\n",
       "      <td>1.44</td>\n",
       "      <td>76.8</td>\n",
       "      <td>2.13</td>\n",
       "      <td>12200</td>\n",
       "    </tr>\n",
       "  </tbody>\n",
       "</table>\n",
       "</div>"
      ],
      "text/plain": [
       "               country  child_mort  exports  health  imports  income  \\\n",
       "0          Afghanistan        90.2     10.0    7.58     44.9    1610   \n",
       "1              Albania        16.6     28.0    6.55     48.6    9930   \n",
       "2              Algeria        27.3     38.4    4.17     31.4   12900   \n",
       "3               Angola       119.0     62.3    2.85     42.9    5900   \n",
       "4  Antigua and Barbuda        10.3     45.5    6.03     58.9   19100   \n",
       "\n",
       "   inflation  life_expec  total_fer   gdpp  \n",
       "0       9.44        56.2       5.82    553  \n",
       "1       4.49        76.3       1.65   4090  \n",
       "2      16.10        76.5       2.89   4460  \n",
       "3      22.40        60.1       6.16   3530  \n",
       "4       1.44        76.8       2.13  12200  "
      ]
     },
     "execution_count": 213,
     "metadata": {},
     "output_type": "execute_result"
    }
   ],
   "source": [
    "df.head()"
   ]
  },
  {
   "cell_type": "code",
   "execution_count": 214,
   "metadata": {},
   "outputs": [
    {
     "data": {
      "text/plain": [
       "(167, 10)"
      ]
     },
     "execution_count": 214,
     "metadata": {},
     "output_type": "execute_result"
    }
   ],
   "source": [
    "df.shape"
   ]
  },
  {
   "cell_type": "code",
   "execution_count": 73,
   "metadata": {},
   "outputs": [
    {
     "data": {
      "text/plain": [
       "Index(['country', 'child_mort', 'exports', 'health', 'imports', 'income',\n",
       "       'inflation', 'life_expec', 'total_fer', 'gdpp'],\n",
       "      dtype='object')"
      ]
     },
     "execution_count": 73,
     "metadata": {},
     "output_type": "execute_result"
    }
   ],
   "source": [
    "df.columns"
   ]
  },
  {
   "cell_type": "code",
   "execution_count": 74,
   "metadata": {},
   "outputs": [
    {
     "data": {
      "text/plain": [
       "country        object\n",
       "child_mort    float64\n",
       "exports       float64\n",
       "health        float64\n",
       "imports       float64\n",
       "income          int64\n",
       "inflation     float64\n",
       "life_expec    float64\n",
       "total_fer     float64\n",
       "gdpp            int64\n",
       "dtype: object"
      ]
     },
     "execution_count": 74,
     "metadata": {},
     "output_type": "execute_result"
    }
   ],
   "source": [
    "df.dtypes"
   ]
  },
  {
   "cell_type": "code",
   "execution_count": 75,
   "metadata": {},
   "outputs": [],
   "source": [
    "# Remove the country column in the dataframe\n",
    "\n",
    "df_new = df[['child_mort','exports','health','imports' , 'income','inflation' , 'life_expec' , 'total_fer' , 'gdpp']]"
   ]
  },
  {
   "cell_type": "code",
   "execution_count": 76,
   "metadata": {},
   "outputs": [
    {
     "data": {
      "text/html": [
       "<div>\n",
       "<style scoped>\n",
       "    .dataframe tbody tr th:only-of-type {\n",
       "        vertical-align: middle;\n",
       "    }\n",
       "\n",
       "    .dataframe tbody tr th {\n",
       "        vertical-align: top;\n",
       "    }\n",
       "\n",
       "    .dataframe thead th {\n",
       "        text-align: right;\n",
       "    }\n",
       "</style>\n",
       "<table border=\"1\" class=\"dataframe\">\n",
       "  <thead>\n",
       "    <tr style=\"text-align: right;\">\n",
       "      <th></th>\n",
       "      <th>child_mort</th>\n",
       "      <th>exports</th>\n",
       "      <th>health</th>\n",
       "      <th>imports</th>\n",
       "      <th>income</th>\n",
       "      <th>inflation</th>\n",
       "      <th>life_expec</th>\n",
       "      <th>total_fer</th>\n",
       "      <th>gdpp</th>\n",
       "    </tr>\n",
       "  </thead>\n",
       "  <tbody>\n",
       "    <tr>\n",
       "      <th>count</th>\n",
       "      <td>167.000000</td>\n",
       "      <td>167.000000</td>\n",
       "      <td>167.000000</td>\n",
       "      <td>167.000000</td>\n",
       "      <td>167.000000</td>\n",
       "      <td>167.000000</td>\n",
       "      <td>167.000000</td>\n",
       "      <td>167.000000</td>\n",
       "      <td>167.000000</td>\n",
       "    </tr>\n",
       "    <tr>\n",
       "      <th>mean</th>\n",
       "      <td>38.270060</td>\n",
       "      <td>41.108976</td>\n",
       "      <td>6.815689</td>\n",
       "      <td>46.890215</td>\n",
       "      <td>17144.688623</td>\n",
       "      <td>7.781832</td>\n",
       "      <td>70.555689</td>\n",
       "      <td>2.947964</td>\n",
       "      <td>12964.155689</td>\n",
       "    </tr>\n",
       "    <tr>\n",
       "      <th>std</th>\n",
       "      <td>40.328931</td>\n",
       "      <td>27.412010</td>\n",
       "      <td>2.746837</td>\n",
       "      <td>24.209589</td>\n",
       "      <td>19278.067698</td>\n",
       "      <td>10.570704</td>\n",
       "      <td>8.893172</td>\n",
       "      <td>1.513848</td>\n",
       "      <td>18328.704809</td>\n",
       "    </tr>\n",
       "    <tr>\n",
       "      <th>min</th>\n",
       "      <td>2.600000</td>\n",
       "      <td>0.109000</td>\n",
       "      <td>1.810000</td>\n",
       "      <td>0.065900</td>\n",
       "      <td>609.000000</td>\n",
       "      <td>-4.210000</td>\n",
       "      <td>32.100000</td>\n",
       "      <td>1.150000</td>\n",
       "      <td>231.000000</td>\n",
       "    </tr>\n",
       "    <tr>\n",
       "      <th>25%</th>\n",
       "      <td>8.250000</td>\n",
       "      <td>23.800000</td>\n",
       "      <td>4.920000</td>\n",
       "      <td>30.200000</td>\n",
       "      <td>3355.000000</td>\n",
       "      <td>1.810000</td>\n",
       "      <td>65.300000</td>\n",
       "      <td>1.795000</td>\n",
       "      <td>1330.000000</td>\n",
       "    </tr>\n",
       "    <tr>\n",
       "      <th>50%</th>\n",
       "      <td>19.300000</td>\n",
       "      <td>35.000000</td>\n",
       "      <td>6.320000</td>\n",
       "      <td>43.300000</td>\n",
       "      <td>9960.000000</td>\n",
       "      <td>5.390000</td>\n",
       "      <td>73.100000</td>\n",
       "      <td>2.410000</td>\n",
       "      <td>4660.000000</td>\n",
       "    </tr>\n",
       "    <tr>\n",
       "      <th>75%</th>\n",
       "      <td>62.100000</td>\n",
       "      <td>51.350000</td>\n",
       "      <td>8.600000</td>\n",
       "      <td>58.750000</td>\n",
       "      <td>22800.000000</td>\n",
       "      <td>10.750000</td>\n",
       "      <td>76.800000</td>\n",
       "      <td>3.880000</td>\n",
       "      <td>14050.000000</td>\n",
       "    </tr>\n",
       "    <tr>\n",
       "      <th>90%</th>\n",
       "      <td>100.220000</td>\n",
       "      <td>70.800000</td>\n",
       "      <td>10.940000</td>\n",
       "      <td>75.420000</td>\n",
       "      <td>41220.000000</td>\n",
       "      <td>16.640000</td>\n",
       "      <td>80.400000</td>\n",
       "      <td>5.322000</td>\n",
       "      <td>41840.000000</td>\n",
       "    </tr>\n",
       "    <tr>\n",
       "      <th>95%</th>\n",
       "      <td>116.000000</td>\n",
       "      <td>80.570000</td>\n",
       "      <td>11.570000</td>\n",
       "      <td>81.140000</td>\n",
       "      <td>48290.000000</td>\n",
       "      <td>20.870000</td>\n",
       "      <td>81.400000</td>\n",
       "      <td>5.861000</td>\n",
       "      <td>48610.000000</td>\n",
       "    </tr>\n",
       "    <tr>\n",
       "      <th>99%</th>\n",
       "      <td>153.400000</td>\n",
       "      <td>160.480000</td>\n",
       "      <td>13.474000</td>\n",
       "      <td>146.080000</td>\n",
       "      <td>84374.000000</td>\n",
       "      <td>41.478000</td>\n",
       "      <td>82.370000</td>\n",
       "      <td>6.563600</td>\n",
       "      <td>79088.000000</td>\n",
       "    </tr>\n",
       "    <tr>\n",
       "      <th>max</th>\n",
       "      <td>208.000000</td>\n",
       "      <td>200.000000</td>\n",
       "      <td>17.900000</td>\n",
       "      <td>174.000000</td>\n",
       "      <td>125000.000000</td>\n",
       "      <td>104.000000</td>\n",
       "      <td>82.800000</td>\n",
       "      <td>7.490000</td>\n",
       "      <td>105000.000000</td>\n",
       "    </tr>\n",
       "  </tbody>\n",
       "</table>\n",
       "</div>"
      ],
      "text/plain": [
       "       child_mort     exports      health     imports         income  \\\n",
       "count  167.000000  167.000000  167.000000  167.000000     167.000000   \n",
       "mean    38.270060   41.108976    6.815689   46.890215   17144.688623   \n",
       "std     40.328931   27.412010    2.746837   24.209589   19278.067698   \n",
       "min      2.600000    0.109000    1.810000    0.065900     609.000000   \n",
       "25%      8.250000   23.800000    4.920000   30.200000    3355.000000   \n",
       "50%     19.300000   35.000000    6.320000   43.300000    9960.000000   \n",
       "75%     62.100000   51.350000    8.600000   58.750000   22800.000000   \n",
       "90%    100.220000   70.800000   10.940000   75.420000   41220.000000   \n",
       "95%    116.000000   80.570000   11.570000   81.140000   48290.000000   \n",
       "99%    153.400000  160.480000   13.474000  146.080000   84374.000000   \n",
       "max    208.000000  200.000000   17.900000  174.000000  125000.000000   \n",
       "\n",
       "        inflation  life_expec   total_fer           gdpp  \n",
       "count  167.000000  167.000000  167.000000     167.000000  \n",
       "mean     7.781832   70.555689    2.947964   12964.155689  \n",
       "std     10.570704    8.893172    1.513848   18328.704809  \n",
       "min     -4.210000   32.100000    1.150000     231.000000  \n",
       "25%      1.810000   65.300000    1.795000    1330.000000  \n",
       "50%      5.390000   73.100000    2.410000    4660.000000  \n",
       "75%     10.750000   76.800000    3.880000   14050.000000  \n",
       "90%     16.640000   80.400000    5.322000   41840.000000  \n",
       "95%     20.870000   81.400000    5.861000   48610.000000  \n",
       "99%     41.478000   82.370000    6.563600   79088.000000  \n",
       "max    104.000000   82.800000    7.490000  105000.000000  "
      ]
     },
     "execution_count": 76,
     "metadata": {},
     "output_type": "execute_result"
    }
   ],
   "source": [
    "# Checking outliers at 25%,50%,75%,90%,95% and 99%\n",
    "df_new.describe(percentiles=[.25,.5,.75,.90,.95,.99])"
   ]
  },
  {
   "cell_type": "code",
   "execution_count": 77,
   "metadata": {},
   "outputs": [
    {
     "data": {
      "text/html": [
       "<div>\n",
       "<style scoped>\n",
       "    .dataframe tbody tr th:only-of-type {\n",
       "        vertical-align: middle;\n",
       "    }\n",
       "\n",
       "    .dataframe tbody tr th {\n",
       "        vertical-align: top;\n",
       "    }\n",
       "\n",
       "    .dataframe thead th {\n",
       "        text-align: right;\n",
       "    }\n",
       "</style>\n",
       "<table border=\"1\" class=\"dataframe\">\n",
       "  <thead>\n",
       "    <tr style=\"text-align: right;\">\n",
       "      <th></th>\n",
       "      <th>child_mort</th>\n",
       "      <th>exports</th>\n",
       "      <th>health</th>\n",
       "      <th>imports</th>\n",
       "      <th>income</th>\n",
       "      <th>inflation</th>\n",
       "      <th>life_expec</th>\n",
       "      <th>total_fer</th>\n",
       "      <th>gdpp</th>\n",
       "    </tr>\n",
       "  </thead>\n",
       "  <tbody>\n",
       "    <tr>\n",
       "      <th>0</th>\n",
       "      <td>1.287660</td>\n",
       "      <td>-1.134867</td>\n",
       "      <td>0.278251</td>\n",
       "      <td>-0.082208</td>\n",
       "      <td>-0.805822</td>\n",
       "      <td>0.156864</td>\n",
       "      <td>-1.614237</td>\n",
       "      <td>1.897176</td>\n",
       "      <td>-0.677143</td>\n",
       "    </tr>\n",
       "    <tr>\n",
       "      <th>1</th>\n",
       "      <td>-0.537333</td>\n",
       "      <td>-0.478220</td>\n",
       "      <td>-0.096725</td>\n",
       "      <td>0.070624</td>\n",
       "      <td>-0.374243</td>\n",
       "      <td>-0.311411</td>\n",
       "      <td>0.645924</td>\n",
       "      <td>-0.857394</td>\n",
       "      <td>-0.484167</td>\n",
       "    </tr>\n",
       "    <tr>\n",
       "      <th>2</th>\n",
       "      <td>-0.272015</td>\n",
       "      <td>-0.098824</td>\n",
       "      <td>-0.963176</td>\n",
       "      <td>-0.639838</td>\n",
       "      <td>-0.220182</td>\n",
       "      <td>0.786908</td>\n",
       "      <td>0.668413</td>\n",
       "      <td>-0.038289</td>\n",
       "      <td>-0.463980</td>\n",
       "    </tr>\n",
       "    <tr>\n",
       "      <th>3</th>\n",
       "      <td>2.001787</td>\n",
       "      <td>0.773056</td>\n",
       "      <td>-1.443729</td>\n",
       "      <td>-0.164820</td>\n",
       "      <td>-0.583289</td>\n",
       "      <td>1.382894</td>\n",
       "      <td>-1.175698</td>\n",
       "      <td>2.121770</td>\n",
       "      <td>-0.514720</td>\n",
       "    </tr>\n",
       "    <tr>\n",
       "      <th>4</th>\n",
       "      <td>-0.693548</td>\n",
       "      <td>0.160186</td>\n",
       "      <td>-0.286034</td>\n",
       "      <td>0.496076</td>\n",
       "      <td>0.101427</td>\n",
       "      <td>-0.599944</td>\n",
       "      <td>0.702147</td>\n",
       "      <td>-0.540321</td>\n",
       "      <td>-0.041692</td>\n",
       "    </tr>\n",
       "  </tbody>\n",
       "</table>\n",
       "</div>"
      ],
      "text/plain": [
       "   child_mort   exports    health   imports    income  inflation  life_expec  \\\n",
       "0    1.287660 -1.134867  0.278251 -0.082208 -0.805822   0.156864   -1.614237   \n",
       "1   -0.537333 -0.478220 -0.096725  0.070624 -0.374243  -0.311411    0.645924   \n",
       "2   -0.272015 -0.098824 -0.963176 -0.639838 -0.220182   0.786908    0.668413   \n",
       "3    2.001787  0.773056 -1.443729 -0.164820 -0.583289   1.382894   -1.175698   \n",
       "4   -0.693548  0.160186 -0.286034  0.496076  0.101427  -0.599944    0.702147   \n",
       "\n",
       "   total_fer      gdpp  \n",
       "0   1.897176 -0.677143  \n",
       "1  -0.857394 -0.484167  \n",
       "2  -0.038289 -0.463980  \n",
       "3   2.121770 -0.514720  \n",
       "4  -0.540321 -0.041692  "
      ]
     },
     "execution_count": 77,
     "metadata": {},
     "output_type": "execute_result"
    }
   ],
   "source": [
    "#Standardize the numerical columns\n",
    "normalized_df=(df_new-df_new.mean())/df_new.std()\n",
    "normalized_df.head()"
   ]
  },
  {
   "cell_type": "code",
   "execution_count": 78,
   "metadata": {},
   "outputs": [],
   "source": [
    "#Perform PCA\n",
    "\n",
    "from sklearn.decomposition import PCA\n",
    "pca = PCA(svd_solver='randomized', random_state=42)"
   ]
  },
  {
   "cell_type": "code",
   "execution_count": 79,
   "metadata": {},
   "outputs": [
    {
     "data": {
      "text/plain": [
       "PCA(copy=True, iterated_power='auto', n_components=None, random_state=42,\n",
       "  svd_solver='randomized', tol=0.0, whiten=False)"
      ]
     },
     "execution_count": 79,
     "metadata": {},
     "output_type": "execute_result"
    }
   ],
   "source": [
    "#Doing the PCA on the train data\n",
    "pca.fit(normalized_df)"
   ]
  },
  {
   "cell_type": "code",
   "execution_count": 80,
   "metadata": {},
   "outputs": [
    {
     "data": {
      "text/html": [
       "<div>\n",
       "<style scoped>\n",
       "    .dataframe tbody tr th:only-of-type {\n",
       "        vertical-align: middle;\n",
       "    }\n",
       "\n",
       "    .dataframe tbody tr th {\n",
       "        vertical-align: top;\n",
       "    }\n",
       "\n",
       "    .dataframe thead th {\n",
       "        text-align: right;\n",
       "    }\n",
       "</style>\n",
       "<table border=\"1\" class=\"dataframe\">\n",
       "  <thead>\n",
       "    <tr style=\"text-align: right;\">\n",
       "      <th></th>\n",
       "      <th>PC1</th>\n",
       "      <th>PC2</th>\n",
       "      <th>Feature</th>\n",
       "    </tr>\n",
       "  </thead>\n",
       "  <tbody>\n",
       "    <tr>\n",
       "      <th>0</th>\n",
       "      <td>-0.419519</td>\n",
       "      <td>0.192884</td>\n",
       "      <td>child_mort</td>\n",
       "    </tr>\n",
       "    <tr>\n",
       "      <th>1</th>\n",
       "      <td>0.283897</td>\n",
       "      <td>0.613163</td>\n",
       "      <td>exports</td>\n",
       "    </tr>\n",
       "    <tr>\n",
       "      <th>2</th>\n",
       "      <td>0.150838</td>\n",
       "      <td>-0.243087</td>\n",
       "      <td>health</td>\n",
       "    </tr>\n",
       "    <tr>\n",
       "      <th>3</th>\n",
       "      <td>0.161482</td>\n",
       "      <td>0.671821</td>\n",
       "      <td>imports</td>\n",
       "    </tr>\n",
       "    <tr>\n",
       "      <th>4</th>\n",
       "      <td>0.398441</td>\n",
       "      <td>0.022536</td>\n",
       "      <td>income</td>\n",
       "    </tr>\n",
       "    <tr>\n",
       "      <th>5</th>\n",
       "      <td>-0.193173</td>\n",
       "      <td>-0.008404</td>\n",
       "      <td>inflation</td>\n",
       "    </tr>\n",
       "    <tr>\n",
       "      <th>6</th>\n",
       "      <td>0.425839</td>\n",
       "      <td>-0.222707</td>\n",
       "      <td>life_expec</td>\n",
       "    </tr>\n",
       "    <tr>\n",
       "      <th>7</th>\n",
       "      <td>-0.403729</td>\n",
       "      <td>0.155233</td>\n",
       "      <td>total_fer</td>\n",
       "    </tr>\n",
       "    <tr>\n",
       "      <th>8</th>\n",
       "      <td>0.392645</td>\n",
       "      <td>-0.046022</td>\n",
       "      <td>gdpp</td>\n",
       "    </tr>\n",
       "  </tbody>\n",
       "</table>\n",
       "</div>"
      ],
      "text/plain": [
       "        PC1       PC2     Feature\n",
       "0 -0.419519  0.192884  child_mort\n",
       "1  0.283897  0.613163     exports\n",
       "2  0.150838 -0.243087      health\n",
       "3  0.161482  0.671821     imports\n",
       "4  0.398441  0.022536      income\n",
       "5 -0.193173 -0.008404   inflation\n",
       "6  0.425839 -0.222707  life_expec\n",
       "7 -0.403729  0.155233   total_fer\n",
       "8  0.392645 -0.046022        gdpp"
      ]
     },
     "execution_count": 80,
     "metadata": {},
     "output_type": "execute_result"
    }
   ],
   "source": [
    "#Find the principal components\n",
    "\n",
    "pcs_df = pd.DataFrame({'PC1':pca.components_[0],'PC2':pca.components_[1],'Feature':normalized_df.columns })\n",
    "pcs_df"
   ]
  },
  {
   "cell_type": "code",
   "execution_count": 81,
   "metadata": {},
   "outputs": [
    {
     "data": {
      "image/png": "[encoded data removed]",
      "text/plain": [
       "<Figure size 576x576 with 1 Axes>"
      ]
     },
     "metadata": {
      "needs_background": "light"
     },
     "output_type": "display_data"
    }
   ],
   "source": [
    "%matplotlib inline\n",
    "fig = plt.figure(figsize = (8,8))\n",
    "plt.scatter(pcs_df.PC1, pcs_df.PC2)\n",
    "plt.xlabel('Principal Component 1')\n",
    "plt.ylabel('Principal Component 2')\n",
    "for i, txt in enumerate(pcs_df.Feature):\n",
    "    plt.annotate(txt, (pcs_df.PC1[i],pcs_df.PC2[i]))\n",
    "plt.tight_layout()\n",
    "plt.show()"
   ]
  },
  {
   "cell_type": "code",
   "execution_count": 82,
   "metadata": {},
   "outputs": [
    {
     "data": {
      "text/plain": [
       "array([4.13565658, 1.54634631, 1.1703833 , 0.99478456, 0.66061903,\n",
       "       0.22358112, 0.11343874, 0.08831536, 0.06687501])"
      ]
     },
     "execution_count": 82,
     "metadata": {},
     "output_type": "execute_result"
    }
   ],
   "source": [
    "pca.explained_variance_"
   ]
  },
  {
   "cell_type": "code",
   "execution_count": 83,
   "metadata": {},
   "outputs": [
    {
     "name": "stdout",
     "output_type": "stream",
     "text": [
      "pca.explained_variance_ratio_:  [46.  17.2 13.  11.1  7.3  2.5  1.3  1.   0.7]\n"
     ]
    }
   ],
   "source": [
    "print(\"pca.explained_variance_ratio_: \",pca.explained_variance_ratio_.round(3)*100)"
   ]
  },
  {
   "cell_type": "code",
   "execution_count": 84,
   "metadata": {},
   "outputs": [
    {
     "name": "stdout",
     "output_type": "stream",
     "text": [
      "[0.4595174  0.63133365 0.76137624 0.87190786 0.94530998 0.97015232\n",
      " 0.98275663 0.99256944 1.        ]\n"
     ]
    }
   ],
   "source": [
    "print (pca.explained_variance_ratio_.cumsum())"
   ]
  },
  {
   "cell_type": "code",
   "execution_count": 85,
   "metadata": {},
   "outputs": [
    {
     "data": {
      "image/png": "[encoded data removed]",
      "text/plain": [
       "<Figure size 864x576 with 1 Axes>"
      ]
     },
     "metadata": {
      "needs_background": "light"
     },
     "output_type": "display_data"
    }
   ],
   "source": [
    "#Making the screeplot - plotting the cumulative variance against the number of components\n",
    "\n",
    "import matplotlib.pyplot as plt\n",
    "import numpy as np\n",
    "from sklearn import  linear_model\n",
    "from sklearn.metrics import mean_squared_error, r2_score\n",
    "\n",
    "%matplotlib inline\n",
    "fig = plt.figure(figsize = (12,8))\n",
    "plt.plot(np.cumsum(pca.explained_variance_))\n",
    "plt.xlabel('number of components')\n",
    "plt.ylabel('cumulative explained variance')\n",
    "plt.show()\n",
    "\n",
    "\n",
    "#Since the variance reaches maximum when number of components is 4 and after that saturates - we will take number of principak components to be 4"
   ]
  },
  {
   "cell_type": "code",
   "execution_count": 86,
   "metadata": {},
   "outputs": [],
   "source": [
    "#Using incremental PCA for efficiency - saves a lot of time on larger datasets\n",
    "from sklearn.decomposition import IncrementalPCA\n",
    "pca_final = IncrementalPCA(n_components=4)"
   ]
  },
  {
   "cell_type": "code",
   "execution_count": 87,
   "metadata": {},
   "outputs": [],
   "source": [
    "df_train_pca = pca_final.fit_transform(normalized_df)\n"
   ]
  },
  {
   "cell_type": "code",
   "execution_count": 98,
   "metadata": {},
   "outputs": [],
   "source": [
    "#creating correlation matrix for the principal components\n",
    "corrmat = np.corrcoef(df_train_pca.transpose())"
   ]
  },
  {
   "cell_type": "code",
   "execution_count": 89,
   "metadata": {},
   "outputs": [
    {
     "data": {
      "text/plain": [
       "<matplotlib.axes._subplots.AxesSubplot at 0x219f86232b0>"
      ]
     },
     "execution_count": 89,
     "metadata": {},
     "output_type": "execute_result"
    },
    {
     "data": {
      "image/png": "[encoded data removed]",
      "text/plain": [
       "<Figure size 1440x720 with 2 Axes>"
      ]
     },
     "metadata": {
      "needs_background": "light"
     },
     "output_type": "display_data"
    }
   ],
   "source": [
    "#plotting the correlation matrix\n",
    "\n",
    "import matplotlib.pyplot as plt\n",
    "import seaborn as sns\n",
    "%matplotlib inline\n",
    "plt.figure(figsize = (20,10))\n",
    "sns.heatmap(corrmat,annot = True)"
   ]
  },
  {
   "cell_type": "code",
   "execution_count": 69,
   "metadata": {},
   "outputs": [
    {
     "name": "stdout",
     "output_type": "stream",
     "text": [
      "max corr: 0.0011961925092543056 , min corr:  -0.0020378295355501573\n"
     ]
    }
   ],
   "source": [
    "# 1s -> 0s in diagonals\n",
    "corrmat_nodiag = corrmat - np.diagflat(corrmat.diagonal())\n",
    " "
   ]
  },
  {
   "cell_type": "code",
   "execution_count": 90,
   "metadata": {},
   "outputs": [
    {
     "data": {
      "text/plain": [
       "country        object\n",
       "child_mort    float64\n",
       "exports       float64\n",
       "health        float64\n",
       "imports       float64\n",
       "income          int64\n",
       "inflation     float64\n",
       "life_expec    float64\n",
       "total_fer     float64\n",
       "gdpp            int64\n",
       "dtype: object"
      ]
     },
     "execution_count": 90,
     "metadata": {},
     "output_type": "execute_result"
    }
   ],
   "source": [
    "df.dtypes"
   ]
  },
  {
   "cell_type": "code",
   "execution_count": 91,
   "metadata": {},
   "outputs": [
    {
     "data": {
      "text/plain": [
       "child_mort    float64\n",
       "exports       float64\n",
       "health        float64\n",
       "imports       float64\n",
       "income        float64\n",
       "inflation     float64\n",
       "life_expec    float64\n",
       "total_fer     float64\n",
       "gdpp          float64\n",
       "dtype: object"
      ]
     },
     "execution_count": 91,
     "metadata": {},
     "output_type": "execute_result"
    }
   ],
   "source": [
    "normalized_df.dtypes"
   ]
  },
  {
   "cell_type": "code",
   "execution_count": 100,
   "metadata": {},
   "outputs": [
    {
     "data": {
      "text/plain": [
       "array([[-2.90504953e+00,  8.80889580e-02,  7.18841261e-01,\n",
       "         9.93710369e-01],\n",
       "       [ 4.28070135e-01, -5.86096292e-01,  3.20089646e-01,\n",
       "        -1.16768097e+00],\n",
       "       [-2.82139745e-01, -4.45317863e-01, -1.22146183e+00,\n",
       "        -8.47577887e-01],\n",
       "       [-2.92218008e+00,  1.69434077e+00, -1.51717157e+00,\n",
       "         8.73339848e-01],\n",
       "       [ 1.02889318e+00,  1.30096737e-01,  1.92343951e-01,\n",
       "        -8.42274895e-01],\n",
       "       [ 2.83846572e-02, -1.75145297e+00, -7.91140619e-01,\n",
       "        -5.23290042e-02],\n",
       "       [-1.02540528e-01, -5.65774300e-01, -2.76836260e-01,\n",
       "        -1.45394825e+00],\n",
       "       [ 2.33244068e+00, -1.99212821e+00, -2.36341207e-01,\n",
       "         1.12909454e+00],\n",
       "       [ 2.96494167e+00, -7.32646016e-01,  5.46776474e-01,\n",
       "         1.18898493e+00],\n",
       "       [-1.79466250e-01, -3.92571564e-01, -8.61663738e-01,\n",
       "        -4.25377273e-01],\n",
       "       [ 1.26227794e+00, -6.63093362e-01,  4.52173180e-01,\n",
       "         5.93004990e-02],\n",
       "       [ 1.66572736e+00,  5.58713689e-01, -1.01710933e+00,\n",
       "        -1.77980179e-01],\n",
       "       [-1.12403657e+00, -9.66076642e-01, -6.09811143e-01,\n",
       "        -1.15962320e+00],\n",
       "       [ 1.07685460e+00, -4.85219528e-01,  6.47580322e-01,\n",
       "        -5.31959227e-01],\n",
       "       [ 5.81790635e-01,  5.51733429e-01, -4.29355212e-01,\n",
       "        -1.05056029e+00],\n",
       "       [ 3.13600521e+00,  6.65276728e-01,  7.05963750e-01,\n",
       "         1.06405336e+00],\n",
       "       [ 2.08717063e-01,  6.88144619e-01,  2.29818247e-01,\n",
       "        -1.08783191e+00],\n",
       "       [-2.67116180e+00,  3.90061923e-01,  1.38930761e-01,\n",
       "         3.20868807e-01],\n",
       "       [-1.57122319e-01,  7.74914036e-01,  2.68925465e-01,\n",
       "        -1.04327425e+00],\n",
       "       [-7.92148618e-01, -1.22804587e-01, -4.34578741e-01,\n",
       "        -7.06632264e-01],\n",
       "       [ 9.94795137e-01, -9.63264407e-01,  1.58011938e+00,\n",
       "        -6.75520074e-01],\n",
       "       [-8.78901254e-01,  4.60546750e-01,  6.18507832e-01,\n",
       "         3.83364350e-01],\n",
       "       [ 1.41458487e-01, -2.13958671e+00,  1.82587885e-01,\n",
       "        -1.77557987e-01],\n",
       "       [ 2.45257691e+00,  2.09804603e-02, -3.06552121e+00,\n",
       "         8.57740489e-01],\n",
       "       [ 9.02715410e-01,  2.67389309e-02,  4.49393503e-01,\n",
       "        -9.99961071e-01],\n",
       "       [-3.11582930e+00,  2.32448785e-02,  4.09467641e-01,\n",
       "         1.09364707e+00],\n",
       "       [-2.88692830e+00, -4.18464073e-01,  1.43014954e+00,\n",
       "         1.76782576e+00],\n",
       "       [-5.82491786e-01,  8.85921399e-01,  4.71174791e-01,\n",
       "        -8.06823544e-01],\n",
       "       [-2.80574531e+00,  5.44453826e-02,  2.38060814e-01,\n",
       "         5.79208900e-01],\n",
       "       [ 2.53630742e+00, -1.72138525e+00,  4.19865029e-01,\n",
       "         1.32352600e+00],\n",
       "       [-1.59072064e-01,  3.37665500e-01,  2.20015339e-01,\n",
       "        -1.32685952e+00],\n",
       "       [-3.96247217e+00,  3.56512096e-01,  1.85933633e-01,\n",
       "         9.70087155e-01],\n",
       "       [-3.55216541e+00,  1.26341366e+00,  2.50326744e-02,\n",
       "         1.24333984e+00],\n",
       "       [ 9.51014979e-01, -1.06604650e+00, -1.28737095e-01,\n",
       "        -4.45369062e-01],\n",
       "       [ 5.60466047e-02, -1.18774096e+00, -4.75811941e-01,\n",
       "        -1.25629400e+00],\n",
       "       [ 1.19865759e-01, -1.76749636e+00,  2.11773006e-01,\n",
       "        -7.12484947e-01],\n",
       "       [-2.09175724e+00,  3.25649724e-01,  2.55042975e-01,\n",
       "        -9.70260739e-02],\n",
       "       [-3.15952798e+00,  1.05734802e+00,  8.87208105e-02,\n",
       "         1.54788780e+00],\n",
       "       [-1.71758024e+00,  2.17848824e+00, -1.47172925e+00,\n",
       "        -1.14971046e-01],\n",
       "       [ 9.38767670e-01, -1.33665268e+00,  8.85279346e-01,\n",
       "        -3.04222533e-01],\n",
       "       [-2.57780120e+00,  1.18830598e+00,  1.75599405e-01,\n",
       "         6.86869595e-01],\n",
       "       [ 1.14417530e+00, -8.46930606e-01,  3.82266350e-01,\n",
       "        -6.24528284e-01],\n",
       "       [ 2.16576313e+00, -9.49179801e-03, -2.94368221e-01,\n",
       "        -2.93064804e-01],\n",
       "       [ 2.04597878e+00,  4.16909753e-01,  5.30728961e-01,\n",
       "        -4.19270782e-01],\n",
       "       [ 3.00225669e+00, -8.61247637e-01,  3.76502816e-01,\n",
       "         1.77150382e+00],\n",
       "       [-2.31735188e-01, -8.82567495e-01,  7.45965698e-04,\n",
       "        -6.43996653e-01],\n",
       "       [ 1.11030046e-02, -1.03931611e+00,  2.86225517e-01,\n",
       "        -5.02641847e-01],\n",
       "       [-8.46209738e-01, -8.19754989e-01, -6.24316152e-01,\n",
       "        -7.22355648e-01],\n",
       "       [ 8.06092417e-02, -5.70199446e-01,  5.53173466e-01,\n",
       "        -9.84292510e-01],\n",
       "       [-1.28612239e+00,  2.37045041e+00, -1.71654860e+00,\n",
       "         1.75963597e+00],\n",
       "       [-2.47006301e+00, -6.26161645e-01, -8.84893452e-01,\n",
       "        -4.44185538e-01],\n",
       "       [ 1.65346705e+00,  1.01600760e+00,  9.70091437e-02,\n",
       "        -8.62414144e-01],\n",
       "       [-1.89722797e-01,  1.06406855e+00,  1.61888051e-01,\n",
       "        -9.75755141e-01],\n",
       "       [ 2.44970366e+00, -1.08033383e+00,  7.55593015e-02,\n",
       "         9.09404847e-01],\n",
       "       [ 2.24799468e+00, -1.86310489e+00,  7.33235793e-01,\n",
       "         1.20985113e+00],\n",
       "       [-1.41726433e+00,  3.19633181e-01, -1.56871158e+00,\n",
       "         2.31581228e-01],\n",
       "       [-2.20984336e+00,  2.05514402e-01,  3.35190786e-01,\n",
       "         3.04667406e-01],\n",
       "       [ 3.24825861e-01, -5.03290390e-01,  1.05385630e+00,\n",
       "        -5.20176035e-01],\n",
       "       [ 2.66371414e+00, -1.26982375e+00,  6.82625775e-01,\n",
       "         1.10573295e+00],\n",
       "       [-2.04673890e+00,  3.85118922e-01, -3.99101921e-01,\n",
       "         9.27627549e-02],\n",
       "       [ 1.77374140e+00, -1.76255588e+00,  6.84001162e-01,\n",
       "         2.47811799e-01],\n",
       "       [ 1.42072694e-01, -4.39907691e-01,  4.14172328e-01,\n",
       "        -9.63800341e-01],\n",
       "       [-6.62174518e-01, -6.17634306e-01,  3.08401759e-01,\n",
       "        -4.45975200e-01],\n",
       "       [-2.96086430e+00,  7.26171936e-01, -3.90398840e-01,\n",
       "         6.78360763e-01],\n",
       "       [-2.82886362e+00, -1.06252082e-01,  1.17065692e+00,\n",
       "         1.12651670e+00],\n",
       "       [-3.22657440e-01,  1.35718683e+00,  4.71693344e-01,\n",
       "        -8.61772921e-01],\n",
       "       [-4.40552092e+00,  1.72533310e+00,  1.42433849e+00,\n",
       "         1.79304886e+00],\n",
       "       [ 1.83425576e+00,  1.27250868e+00,  4.85182035e-01,\n",
       "        -7.98780902e-01],\n",
       "       [ 2.47491075e+00, -6.30491117e-01, -7.69362237e-02,\n",
       "         9.14506250e-01],\n",
       "       [-1.34158610e+00, -5.38039825e-01, -5.30163544e-01,\n",
       "        -7.58558894e-01],\n",
       "       [-9.52330493e-01, -7.26432960e-01, -1.42078042e+00,\n",
       "        -1.10373975e+00],\n",
       "       [ 1.13612848e-03, -1.31815699e+00, -1.01313594e+00,\n",
       "        -7.42013553e-01],\n",
       "       [-1.02099048e+00, -2.70950324e-01, -1.21965666e-01,\n",
       "         5.41120491e-01],\n",
       "       [ 3.65694137e+00,  1.71816022e+00,  5.40969000e-01,\n",
       "         9.79088608e-01],\n",
       "       [ 1.47969887e+00, -1.05602953e+00, -1.15928592e-01,\n",
       "         3.36662037e-01],\n",
       "       [ 2.15777952e+00, -1.77288372e+00,  2.61164586e-01,\n",
       "         5.19920485e-01],\n",
       "       [ 1.89239946e-02, -2.34132509e-01, -3.42899910e-01,\n",
       "        -1.21705281e+00],\n",
       "       [ 2.25586822e+00, -2.43968369e+00,  1.75214576e-01,\n",
       "         7.29278106e-01],\n",
       "       [ 1.63132933e-01,  5.45527202e-01,  6.14104823e-01,\n",
       "        -4.11462114e-01],\n",
       "       [-2.89505983e-01, -2.22889241e-01, -1.47368909e+00,\n",
       "        -4.32566788e-01],\n",
       "       [-1.87371623e+00, -1.89667670e-01,  1.56942615e-01,\n",
       "        -2.57107091e-01],\n",
       "       [-1.23539103e+00,  3.66388157e-01,  2.42821057e+00,\n",
       "         5.24000373e-01],\n",
       "       [ 2.45601104e+00,  8.25463947e-02, -2.73375690e+00,\n",
       "         7.95889413e-01],\n",
       "       [-3.36697586e-01,  1.30239133e+00,  4.76003276e-01,\n",
       "        -8.46218961e-01],\n",
       "       [-1.52554619e+00,  5.41007052e-01, -1.69760378e-01,\n",
       "        -3.99971544e-01],\n",
       "       [ 1.18308186e+00,  1.55227955e-01,  4.52244189e-01,\n",
       "        -9.30515891e-01],\n",
       "       [ 1.16714941e+00, -2.59738160e-01,  5.98295179e-01,\n",
       "        -1.06308440e+00],\n",
       "       [-1.79818311e+00,  2.03622076e+00,  2.58719934e+00,\n",
       "         9.95161361e-01],\n",
       "       [-1.76634073e+00,  1.05288547e+00,  2.49102891e+00,\n",
       "         1.09867121e+00],\n",
       "       [ 8.18227126e-01,  3.95899970e-01, -1.49557046e+00,\n",
       "        -5.89674865e-01],\n",
       "       [ 1.40542153e+00,  7.28227618e-01,  4.11955242e-01,\n",
       "        -7.76786412e-01],\n",
       "       [ 6.89747949e+00,  4.84036330e+00, -9.23885901e-01,\n",
       "         3.14075444e+00],\n",
       "       [ 7.30325238e-01, -9.52162371e-02,  6.49725766e-01,\n",
       "        -1.15323312e+00],\n",
       "       [-2.13210029e+00,  3.31864060e-01, -2.92183527e-01,\n",
       "        -2.92109371e-01],\n",
       "       [-2.97158215e+00,  2.11900809e-01,  1.99976601e-01,\n",
       "         8.39761804e-01],\n",
       "       [ 1.22800652e+00,  1.59983192e+00, -5.40775353e-01,\n",
       "        -1.07755355e+00],\n",
       "       [ 1.10588786e+00,  1.00554075e+00,  2.71041744e-01,\n",
       "        -1.09833174e+00],\n",
       "       [-3.40761964e+00,  5.35020937e-01,  1.57093586e-01,\n",
       "         1.10864942e+00],\n",
       "       [ 3.67386692e+00,  4.76949084e+00,  1.16686935e+00,\n",
       "        -5.72921185e-01],\n",
       "       [-1.94577884e+00,  1.38735743e+00, -6.93463093e-01,\n",
       "         1.99111762e-01],\n",
       "       [ 8.95213837e-01,  4.10869891e-01,  3.52413342e-01,\n",
       "        -1.07223647e+00],\n",
       "       [-3.75440133e-01,  1.11645013e-01,  2.84880335e+00,\n",
       "         6.67830938e-01],\n",
       "       [ 5.14198819e-01,  1.86584395e-01,  1.71768513e+00,\n",
       "        -5.09157883e-01],\n",
       "       [-9.29952171e-01,  5.79587585e-01, -1.65781432e+00,\n",
       "        -4.32349957e-01],\n",
       "       [ 1.02447630e+00, -2.54950515e-01,  1.13096941e+00,\n",
       "        -7.51977300e-01],\n",
       "       [-2.35413496e-01, -2.91859206e-01,  1.93170111e-01,\n",
       "        -1.06011270e+00],\n",
       "       [-2.91491998e+00,  8.77253890e-01,  2.12554174e-01,\n",
       "         6.49651903e-01],\n",
       "       [-1.83800343e+00, -1.62362630e+00, -1.14999272e+00,\n",
       "        -1.05409458e+00],\n",
       "       [-1.04227168e+00,  9.92346148e-01,  7.15896843e-01,\n",
       "         8.42497560e-02],\n",
       "       [-1.30226724e+00, -7.77819081e-01, -3.80762370e-01,\n",
       "        -7.52342605e-01],\n",
       "       [ 3.37053410e+00,  1.17871675e-01,  7.98710756e-01,\n",
       "         1.51145559e+00],\n",
       "       [ 1.81093871e+00, -1.58076004e+00,  2.71992246e-01,\n",
       "         7.27022454e-01],\n",
       "       [-3.44500833e+00,  9.38948893e-01,  4.94331311e-01,\n",
       "         1.15296042e+00],\n",
       "       [-4.86429547e+00,  4.06864799e-02, -5.57350695e+00,\n",
       "         2.34305856e+00],\n",
       "       [ 3.70845159e+00, -1.44589426e+00, -8.94415342e-01,\n",
       "         2.79562900e+00],\n",
       "       [ 1.12517795e+00,  4.94508333e-01, -2.15958720e+00,\n",
       "        -1.24536877e-01],\n",
       "       [-2.35783927e+00, -4.89266518e-01, -1.11279338e+00,\n",
       "        -3.64127683e-01],\n",
       "       [ 1.16183304e+00,  1.11323186e+00,  8.25282027e-01,\n",
       "        -5.75902041e-01],\n",
       "       [ 1.17908198e-01,  3.59390540e-01,  3.85614130e-02,\n",
       "        -9.48395404e-01],\n",
       "       [-2.18823467e-02, -1.08933436e+00, -4.61504014e-01,\n",
       "        -1.04546266e+00],\n",
       "       [-7.83600305e-01, -1.08168804e-01, -3.91883761e-01,\n",
       "        -1.04931420e+00],\n",
       "       [ 1.21311528e+00, -6.60208569e-01,  2.88121594e-01,\n",
       "        -6.96393257e-01],\n",
       "       [ 1.80918773e+00, -1.44607860e+00,  9.64417364e-01,\n",
       "         1.65143177e-01],\n",
       "       [ 4.22259632e+00, -2.14602480e-01, -3.80250575e+00,\n",
       "         2.53267622e+00],\n",
       "       [ 5.69048819e-01, -6.40045909e-01, -1.35108853e-01,\n",
       "        -1.01435903e+00],\n",
       "       [ 1.64170275e-01, -1.05471766e+00, -1.10125154e+00,\n",
       "        -6.22766219e-01],\n",
       "       [-1.67501738e+00, -1.00711404e+00,  1.47414550e+00,\n",
       "         6.41620014e-01],\n",
       "       [-5.62216333e-01, -3.39964044e-02,  6.02863481e-01,\n",
       "        -5.36006242e-01],\n",
       "       [ 8.55500965e-01, -1.75027888e-01, -1.90594455e+00,\n",
       "         2.41315925e-01],\n",
       "       [-1.91011427e+00,  7.21555077e-02,  4.34020167e-01,\n",
       "         4.45032936e-02],\n",
       "       [ 8.32868241e-01, -8.56133037e-01,  1.08113584e+00,\n",
       "        -5.51374732e-01],\n",
       "       [ 1.59387496e+00,  2.91674156e+00,  3.28592049e-01,\n",
       "        -1.38787830e+00],\n",
       "       [-3.36785351e+00, -2.22043263e-01,  1.49302029e+00,\n",
       "         2.51676777e+00],\n",
       "       [ 5.76636087e+00,  6.66532758e+00, -6.06540721e-01,\n",
       "         9.39792580e-02],\n",
       "       [ 2.02435213e+00,  1.04937929e+00,  8.88399286e-01,\n",
       "        -4.01835548e-01],\n",
       "       [ 2.27278256e+00,  1.92885709e-01,  8.17654883e-01,\n",
       "        -8.99712813e-02],\n",
       "       [-8.01178273e-01,  1.30306144e+00,  1.29191567e+00,\n",
       "        -9.14678130e-02],\n",
       "       [-1.18941007e+00, -5.55899166e-01,  7.19742944e-01,\n",
       "         5.36286247e-01],\n",
       "       [ 1.91147371e+00, -4.27379730e-01, -1.60578163e-01,\n",
       "        -4.63929746e-01],\n",
       "       [ 2.01184041e+00, -1.78410643e+00,  3.59263486e-01,\n",
       "         2.63806361e-01],\n",
       "       [-5.70173841e-01, -9.75831824e-01, -1.73405474e+00,\n",
       "        -1.35603332e+00],\n",
       "       [ 2.41111827e-02, -2.07539719e-02, -7.82989190e-03,\n",
       "        -1.21233529e+00],\n",
       "       [-2.30953610e+00, -7.59137232e-01, -7.04090940e-01,\n",
       "         4.96660985e-01],\n",
       "       [ 1.71859606e-01, -9.31602025e-02, -1.12768847e-02,\n",
       "        -3.79066626e-01],\n",
       "       [ 2.80882831e+00, -9.17065718e-01,  9.57646776e-02,\n",
       "         1.24676746e+00],\n",
       "       [ 4.07566977e+00, -4.30078593e-01,  2.91576875e-01,\n",
       "         2.30037792e+00],\n",
       "       [-1.23961331e+00, -2.30566550e-02,  1.72506469e-01,\n",
       "        -4.94805352e-01],\n",
       "       [-2.54765998e+00, -2.24109793e-01,  5.34170320e-02,\n",
       "         4.74189623e-01],\n",
       "       [ 9.21861928e-01,  8.23211307e-01, -3.83273206e-01,\n",
       "        -1.57741703e+00],\n",
       "       [-2.35628747e+00, -1.15246159e+00, -2.71515857e-01,\n",
       "         1.11905480e+00],\n",
       "       [-1.99465680e+00,  9.40740022e-01,  1.19090624e+00,\n",
       "         5.49802329e-01],\n",
       "       [-7.54578869e-01, -9.76784900e-02,  3.78919831e-01,\n",
       "        -8.50913132e-01],\n",
       "       [ 6.00271805e-01,  1.71561361e-01,  2.30754553e-01,\n",
       "        -1.12246291e+00],\n",
       "       [ 3.99995891e-01, -1.40835564e+00, -2.49547099e-01,\n",
       "        -5.53627421e-01],\n",
       "       [-4.67430215e-01,  1.27250952e+00, -7.01382312e-01,\n",
       "        -8.90072240e-01],\n",
       "       [-2.84511651e+00, -3.55773054e-01,  7.21608372e-01,\n",
       "         1.27701880e+00],\n",
       "       [ 3.05515732e-01, -7.89035224e-02,  1.63146872e-01,\n",
       "        -9.12769273e-01],\n",
       "       [ 2.42004155e+00,  1.15363414e+00, -1.83994823e+00,\n",
       "         3.20037570e-01],\n",
       "       [ 2.06083639e+00, -1.53546615e+00,  2.41306837e-01,\n",
       "         7.92146390e-01],\n",
       "       [ 2.63671368e+00, -2.98222684e+00,  1.82450184e+00,\n",
       "         2.75974721e+00],\n",
       "       [ 6.15859112e-01, -1.42647420e+00,  2.37843181e-01,\n",
       "        -3.64886708e-01],\n",
       "       [-8.48366309e-01, -6.39288224e-01, -5.91582824e-01,\n",
       "        -7.23766089e-01],\n",
       "       [-8.20419182e-01,  6.27187428e-01,  3.42184914e-01,\n",
       "        -6.99272392e-01],\n",
       "       [-5.35820034e-01, -1.17379783e+00, -2.91353712e+00,\n",
       "        -1.25712670e-01],\n",
       "       [ 5.01259187e-01,  1.40378986e+00,  3.21252265e-01,\n",
       "        -1.11266734e+00],\n",
       "       [-1.87685988e+00, -9.31740730e-02, -1.05218333e+00,\n",
       "         5.62312598e-02],\n",
       "       [-2.85542136e+00,  4.82031754e-01, -2.28097929e-01,\n",
       "         8.25558044e-01]])"
      ]
     },
     "execution_count": 100,
     "metadata": {},
     "output_type": "execute_result"
    }
   ],
   "source": [
    "#Output of PCA\n",
    "\n",
    "df_train_pca"
   ]
  },
  {
   "cell_type": "code",
   "execution_count": 113,
   "metadata": {},
   "outputs": [
    {
     "ename": "AttributeError",
     "evalue": "'numpy.ndarray' object has no attribute 'columns'",
     "output_type": "error",
     "traceback": [
      "\u001b[1;31m---------------------------------------------------------------------------\u001b[0m",
      "\u001b[1;31mAttributeError\u001b[0m                            Traceback (most recent call last)",
      "\u001b[1;32m<ipython-input-113-452163f2475b>\u001b[0m in \u001b[0;36m<module>\u001b[1;34m()\u001b[0m\n\u001b[1;32m----> 1\u001b[1;33m \u001b[0mcolnames\u001b[0m \u001b[1;33m=\u001b[0m \u001b[0mlist\u001b[0m\u001b[1;33m(\u001b[0m\u001b[0mdf_train_pca\u001b[0m\u001b[1;33m.\u001b[0m\u001b[0mcolumns\u001b[0m\u001b[1;33m)\u001b[0m\u001b[1;33m\u001b[0m\u001b[0m\n\u001b[0m\u001b[0;32m      2\u001b[0m \u001b[0mpcs_df\u001b[0m \u001b[1;33m=\u001b[0m \u001b[0mpd\u001b[0m\u001b[1;33m.\u001b[0m\u001b[0mDataframe\u001b[0m\u001b[1;33m(\u001b[0m\u001b[1;33m{\u001b[0m\u001b[1;34m'PC1'\u001b[0m\u001b[1;33m:\u001b[0m\u001b[0mpca_components_\u001b[0m\u001b[1;33m[\u001b[0m\u001b[1;36m0\u001b[0m\u001b[1;33m]\u001b[0m\u001b[1;33m,\u001b[0m\u001b[1;34m'PC2'\u001b[0m \u001b[1;33m:\u001b[0m \u001b[0mpca_components_\u001b[0m\u001b[1;33m[\u001b[0m\u001b[1;36m1\u001b[0m\u001b[1;33m]\u001b[0m \u001b[1;33m,\u001b[0m \u001b[1;34m'Feature'\u001b[0m \u001b[1;33m:\u001b[0m\u001b[0mcolnames\u001b[0m\u001b[1;33m}\u001b[0m\u001b[1;33m)\u001b[0m\u001b[1;33m\u001b[0m\u001b[0m\n",
      "\u001b[1;31mAttributeError\u001b[0m: 'numpy.ndarray' object has no attribute 'columns'"
     ]
    }
   ],
   "source": []
  },
  {
   "cell_type": "code",
   "execution_count": 97,
   "metadata": {},
   "outputs": [
    {
     "data": {
      "text/plain": [
       "IncrementalPCA(batch_size=None, copy=True, n_components=4, whiten=False)"
      ]
     },
     "execution_count": 97,
     "metadata": {},
     "output_type": "execute_result"
    }
   ],
   "source": [
    "pca_final\n"
   ]
  },
  {
   "cell_type": "code",
   "execution_count": 101,
   "metadata": {},
   "outputs": [],
   "source": [
    "#Calculate Hopkins score\n",
    "\n",
    "from sklearn.neighbors import NearestNeighbors\n",
    "from random import sample\n",
    "from numpy.random import uniform\n",
    "import numpy as np\n",
    "from math import isnan\n",
    " \n",
    "def hopkins(X):\n",
    "    d = X.shape[1]\n",
    "    #d = len(vars) # columns\n",
    "    n = len(X) # rows\n",
    "    m = int(0.1 * n) \n",
    "    nbrs = NearestNeighbors(n_neighbors=1).fit(X.values)\n",
    " \n",
    "    rand_X = sample(range(0, n, 1), m)\n",
    " \n",
    "    ujd = []\n",
    "    wjd = []\n",
    "    for j in range(0, m):\n",
    "        u_dist, _ = nbrs.kneighbors(uniform(np.amin(X,axis=0),np.amax(X,axis=0),d).reshape(1, -1), 2, return_distance=True)\n",
    "        ujd.append(u_dist[0][1])\n",
    "        w_dist, _ = nbrs.kneighbors(X.iloc[rand_X[j]].values.reshape(1, -1), 2, return_distance=True)\n",
    "        wjd.append(w_dist[0][1])\n",
    " \n",
    "    H = sum(ujd) / (sum(ujd) + sum(wjd))\n",
    "    if isnan(H):\n",
    "        print(ujd, wjd)\n",
    "        H = 0\n",
    " \n",
    "    return H"
   ]
  },
  {
   "cell_type": "code",
   "execution_count": 205,
   "metadata": {},
   "outputs": [
    {
     "data": {
      "text/plain": [
       "array([[-2.90504953e+00,  8.80889580e-02,  7.18841261e-01,\n",
       "         9.93710369e-01],\n",
       "       [ 4.28070135e-01, -5.86096292e-01,  3.20089646e-01,\n",
       "        -1.16768097e+00],\n",
       "       [-2.82139745e-01, -4.45317863e-01, -1.22146183e+00,\n",
       "        -8.47577887e-01],\n",
       "       [-2.92218008e+00,  1.69434077e+00, -1.51717157e+00,\n",
       "         8.73339848e-01],\n",
       "       [ 1.02889318e+00,  1.30096737e-01,  1.92343951e-01,\n",
       "        -8.42274895e-01],\n",
       "       [ 2.83846572e-02, -1.75145297e+00, -7.91140619e-01,\n",
       "        -5.23290042e-02],\n",
       "       [-1.02540528e-01, -5.65774300e-01, -2.76836260e-01,\n",
       "        -1.45394825e+00],\n",
       "       [ 2.33244068e+00, -1.99212821e+00, -2.36341207e-01,\n",
       "         1.12909454e+00],\n",
       "       [ 2.96494167e+00, -7.32646016e-01,  5.46776474e-01,\n",
       "         1.18898493e+00],\n",
       "       [-1.79466250e-01, -3.92571564e-01, -8.61663738e-01,\n",
       "        -4.25377273e-01],\n",
       "       [ 1.26227794e+00, -6.63093362e-01,  4.52173180e-01,\n",
       "         5.93004990e-02],\n",
       "       [ 1.66572736e+00,  5.58713689e-01, -1.01710933e+00,\n",
       "        -1.77980179e-01],\n",
       "       [-1.12403657e+00, -9.66076642e-01, -6.09811143e-01,\n",
       "        -1.15962320e+00],\n",
       "       [ 1.07685460e+00, -4.85219528e-01,  6.47580322e-01,\n",
       "        -5.31959227e-01],\n",
       "       [ 5.81790635e-01,  5.51733429e-01, -4.29355212e-01,\n",
       "        -1.05056029e+00],\n",
       "       [ 3.13600521e+00,  6.65276728e-01,  7.05963750e-01,\n",
       "         1.06405336e+00],\n",
       "       [ 2.08717063e-01,  6.88144619e-01,  2.29818247e-01,\n",
       "        -1.08783191e+00],\n",
       "       [-2.67116180e+00,  3.90061923e-01,  1.38930761e-01,\n",
       "         3.20868807e-01],\n",
       "       [-1.57122319e-01,  7.74914036e-01,  2.68925465e-01,\n",
       "        -1.04327425e+00],\n",
       "       [-7.92148618e-01, -1.22804587e-01, -4.34578741e-01,\n",
       "        -7.06632264e-01],\n",
       "       [ 9.94795137e-01, -9.63264407e-01,  1.58011938e+00,\n",
       "        -6.75520074e-01],\n",
       "       [-8.78901254e-01,  4.60546750e-01,  6.18507832e-01,\n",
       "         3.83364350e-01],\n",
       "       [ 1.41458487e-01, -2.13958671e+00,  1.82587885e-01,\n",
       "        -1.77557987e-01],\n",
       "       [ 2.45257691e+00,  2.09804603e-02, -3.06552121e+00,\n",
       "         8.57740489e-01],\n",
       "       [ 9.02715410e-01,  2.67389309e-02,  4.49393503e-01,\n",
       "        -9.99961071e-01],\n",
       "       [-3.11582930e+00,  2.32448785e-02,  4.09467641e-01,\n",
       "         1.09364707e+00],\n",
       "       [-2.88692830e+00, -4.18464073e-01,  1.43014954e+00,\n",
       "         1.76782576e+00],\n",
       "       [-5.82491786e-01,  8.85921399e-01,  4.71174791e-01,\n",
       "        -8.06823544e-01],\n",
       "       [-2.80574531e+00,  5.44453826e-02,  2.38060814e-01,\n",
       "         5.79208900e-01],\n",
       "       [ 2.53630742e+00, -1.72138525e+00,  4.19865029e-01,\n",
       "         1.32352600e+00],\n",
       "       [-1.59072064e-01,  3.37665500e-01,  2.20015339e-01,\n",
       "        -1.32685952e+00],\n",
       "       [-3.96247217e+00,  3.56512096e-01,  1.85933633e-01,\n",
       "         9.70087155e-01],\n",
       "       [-3.55216541e+00,  1.26341366e+00,  2.50326744e-02,\n",
       "         1.24333984e+00],\n",
       "       [ 9.51014979e-01, -1.06604650e+00, -1.28737095e-01,\n",
       "        -4.45369062e-01],\n",
       "       [ 5.60466047e-02, -1.18774096e+00, -4.75811941e-01,\n",
       "        -1.25629400e+00],\n",
       "       [ 1.19865759e-01, -1.76749636e+00,  2.11773006e-01,\n",
       "        -7.12484947e-01],\n",
       "       [-2.09175724e+00,  3.25649724e-01,  2.55042975e-01,\n",
       "        -9.70260739e-02],\n",
       "       [-3.15952798e+00,  1.05734802e+00,  8.87208105e-02,\n",
       "         1.54788780e+00],\n",
       "       [-1.71758024e+00,  2.17848824e+00, -1.47172925e+00,\n",
       "        -1.14971046e-01],\n",
       "       [ 9.38767670e-01, -1.33665268e+00,  8.85279346e-01,\n",
       "        -3.04222533e-01],\n",
       "       [-2.57780120e+00,  1.18830598e+00,  1.75599405e-01,\n",
       "         6.86869595e-01],\n",
       "       [ 1.14417530e+00, -8.46930606e-01,  3.82266350e-01,\n",
       "        -6.24528284e-01],\n",
       "       [ 2.16576313e+00, -9.49179801e-03, -2.94368221e-01,\n",
       "        -2.93064804e-01],\n",
       "       [ 2.04597878e+00,  4.16909753e-01,  5.30728961e-01,\n",
       "        -4.19270782e-01],\n",
       "       [ 3.00225669e+00, -8.61247637e-01,  3.76502816e-01,\n",
       "         1.77150382e+00],\n",
       "       [-2.31735188e-01, -8.82567495e-01,  7.45965698e-04,\n",
       "        -6.43996653e-01],\n",
       "       [ 1.11030046e-02, -1.03931611e+00,  2.86225517e-01,\n",
       "        -5.02641847e-01],\n",
       "       [-8.46209738e-01, -8.19754989e-01, -6.24316152e-01,\n",
       "        -7.22355648e-01],\n",
       "       [ 8.06092417e-02, -5.70199446e-01,  5.53173466e-01,\n",
       "        -9.84292510e-01],\n",
       "       [-1.28612239e+00,  2.37045041e+00, -1.71654860e+00,\n",
       "         1.75963597e+00],\n",
       "       [-2.47006301e+00, -6.26161645e-01, -8.84893452e-01,\n",
       "        -4.44185538e-01],\n",
       "       [ 1.65346705e+00,  1.01600760e+00,  9.70091437e-02,\n",
       "        -8.62414144e-01],\n",
       "       [-1.89722797e-01,  1.06406855e+00,  1.61888051e-01,\n",
       "        -9.75755141e-01],\n",
       "       [ 2.44970366e+00, -1.08033383e+00,  7.55593015e-02,\n",
       "         9.09404847e-01],\n",
       "       [ 2.24799468e+00, -1.86310489e+00,  7.33235793e-01,\n",
       "         1.20985113e+00],\n",
       "       [-1.41726433e+00,  3.19633181e-01, -1.56871158e+00,\n",
       "         2.31581228e-01],\n",
       "       [-2.20984336e+00,  2.05514402e-01,  3.35190786e-01,\n",
       "         3.04667406e-01],\n",
       "       [ 3.24825861e-01, -5.03290390e-01,  1.05385630e+00,\n",
       "        -5.20176035e-01],\n",
       "       [ 2.66371414e+00, -1.26982375e+00,  6.82625775e-01,\n",
       "         1.10573295e+00],\n",
       "       [-2.04673890e+00,  3.85118922e-01, -3.99101921e-01,\n",
       "         9.27627549e-02],\n",
       "       [ 1.77374140e+00, -1.76255588e+00,  6.84001162e-01,\n",
       "         2.47811799e-01],\n",
       "       [ 1.42072694e-01, -4.39907691e-01,  4.14172328e-01,\n",
       "        -9.63800341e-01],\n",
       "       [-6.62174518e-01, -6.17634306e-01,  3.08401759e-01,\n",
       "        -4.45975200e-01],\n",
       "       [-2.96086430e+00,  7.26171936e-01, -3.90398840e-01,\n",
       "         6.78360763e-01],\n",
       "       [-2.82886362e+00, -1.06252082e-01,  1.17065692e+00,\n",
       "         1.12651670e+00],\n",
       "       [-3.22657440e-01,  1.35718683e+00,  4.71693344e-01,\n",
       "        -8.61772921e-01],\n",
       "       [-4.40552092e+00,  1.72533310e+00,  1.42433849e+00,\n",
       "         1.79304886e+00],\n",
       "       [ 1.83425576e+00,  1.27250868e+00,  4.85182035e-01,\n",
       "        -7.98780902e-01],\n",
       "       [ 2.47491075e+00, -6.30491117e-01, -7.69362237e-02,\n",
       "         9.14506250e-01],\n",
       "       [-1.34158610e+00, -5.38039825e-01, -5.30163544e-01,\n",
       "        -7.58558894e-01],\n",
       "       [-9.52330493e-01, -7.26432960e-01, -1.42078042e+00,\n",
       "        -1.10373975e+00],\n",
       "       [ 1.13612848e-03, -1.31815699e+00, -1.01313594e+00,\n",
       "        -7.42013553e-01],\n",
       "       [-1.02099048e+00, -2.70950324e-01, -1.21965666e-01,\n",
       "         5.41120491e-01],\n",
       "       [ 3.65694137e+00,  1.71816022e+00,  5.40969000e-01,\n",
       "         9.79088608e-01],\n",
       "       [ 1.47969887e+00, -1.05602953e+00, -1.15928592e-01,\n",
       "         3.36662037e-01],\n",
       "       [ 2.15777952e+00, -1.77288372e+00,  2.61164586e-01,\n",
       "         5.19920485e-01],\n",
       "       [ 1.89239946e-02, -2.34132509e-01, -3.42899910e-01,\n",
       "        -1.21705281e+00],\n",
       "       [ 2.25586822e+00, -2.43968369e+00,  1.75214576e-01,\n",
       "         7.29278106e-01],\n",
       "       [ 1.63132933e-01,  5.45527202e-01,  6.14104823e-01,\n",
       "        -4.11462114e-01],\n",
       "       [-2.89505983e-01, -2.22889241e-01, -1.47368909e+00,\n",
       "        -4.32566788e-01],\n",
       "       [-1.87371623e+00, -1.89667670e-01,  1.56942615e-01,\n",
       "        -2.57107091e-01],\n",
       "       [-1.23539103e+00,  3.66388157e-01,  2.42821057e+00,\n",
       "         5.24000373e-01],\n",
       "       [ 2.45601104e+00,  8.25463947e-02, -2.73375690e+00,\n",
       "         7.95889413e-01],\n",
       "       [-3.36697586e-01,  1.30239133e+00,  4.76003276e-01,\n",
       "        -8.46218961e-01],\n",
       "       [-1.52554619e+00,  5.41007052e-01, -1.69760378e-01,\n",
       "        -3.99971544e-01],\n",
       "       [ 1.18308186e+00,  1.55227955e-01,  4.52244189e-01,\n",
       "        -9.30515891e-01],\n",
       "       [ 1.16714941e+00, -2.59738160e-01,  5.98295179e-01,\n",
       "        -1.06308440e+00],\n",
       "       [-1.79818311e+00,  2.03622076e+00,  2.58719934e+00,\n",
       "         9.95161361e-01],\n",
       "       [-1.76634073e+00,  1.05288547e+00,  2.49102891e+00,\n",
       "         1.09867121e+00],\n",
       "       [ 8.18227126e-01,  3.95899970e-01, -1.49557046e+00,\n",
       "        -5.89674865e-01],\n",
       "       [ 1.40542153e+00,  7.28227618e-01,  4.11955242e-01,\n",
       "        -7.76786412e-01],\n",
       "       [ 6.89747949e+00,  4.84036330e+00, -9.23885901e-01,\n",
       "         3.14075444e+00],\n",
       "       [ 7.30325238e-01, -9.52162371e-02,  6.49725766e-01,\n",
       "        -1.15323312e+00],\n",
       "       [-2.13210029e+00,  3.31864060e-01, -2.92183527e-01,\n",
       "        -2.92109371e-01],\n",
       "       [-2.97158215e+00,  2.11900809e-01,  1.99976601e-01,\n",
       "         8.39761804e-01],\n",
       "       [ 1.22800652e+00,  1.59983192e+00, -5.40775353e-01,\n",
       "        -1.07755355e+00],\n",
       "       [ 1.10588786e+00,  1.00554075e+00,  2.71041744e-01,\n",
       "        -1.09833174e+00],\n",
       "       [-3.40761964e+00,  5.35020937e-01,  1.57093586e-01,\n",
       "         1.10864942e+00],\n",
       "       [ 3.67386692e+00,  4.76949084e+00,  1.16686935e+00,\n",
       "        -5.72921185e-01],\n",
       "       [-1.94577884e+00,  1.38735743e+00, -6.93463093e-01,\n",
       "         1.99111762e-01],\n",
       "       [ 8.95213837e-01,  4.10869891e-01,  3.52413342e-01,\n",
       "        -1.07223647e+00],\n",
       "       [-3.75440133e-01,  1.11645013e-01,  2.84880335e+00,\n",
       "         6.67830938e-01],\n",
       "       [ 5.14198819e-01,  1.86584395e-01,  1.71768513e+00,\n",
       "        -5.09157883e-01],\n",
       "       [-9.29952171e-01,  5.79587585e-01, -1.65781432e+00,\n",
       "        -4.32349957e-01],\n",
       "       [ 1.02447630e+00, -2.54950515e-01,  1.13096941e+00,\n",
       "        -7.51977300e-01],\n",
       "       [-2.35413496e-01, -2.91859206e-01,  1.93170111e-01,\n",
       "        -1.06011270e+00],\n",
       "       [-2.91491998e+00,  8.77253890e-01,  2.12554174e-01,\n",
       "         6.49651903e-01],\n",
       "       [-1.83800343e+00, -1.62362630e+00, -1.14999272e+00,\n",
       "        -1.05409458e+00],\n",
       "       [-1.04227168e+00,  9.92346148e-01,  7.15896843e-01,\n",
       "         8.42497560e-02],\n",
       "       [-1.30226724e+00, -7.77819081e-01, -3.80762370e-01,\n",
       "        -7.52342605e-01],\n",
       "       [ 3.37053410e+00,  1.17871675e-01,  7.98710756e-01,\n",
       "         1.51145559e+00],\n",
       "       [ 1.81093871e+00, -1.58076004e+00,  2.71992246e-01,\n",
       "         7.27022454e-01],\n",
       "       [-3.44500833e+00,  9.38948893e-01,  4.94331311e-01,\n",
       "         1.15296042e+00],\n",
       "       [-4.86429547e+00,  4.06864799e-02, -5.57350695e+00,\n",
       "         2.34305856e+00],\n",
       "       [ 3.70845159e+00, -1.44589426e+00, -8.94415342e-01,\n",
       "         2.79562900e+00],\n",
       "       [ 1.12517795e+00,  4.94508333e-01, -2.15958720e+00,\n",
       "        -1.24536877e-01],\n",
       "       [-2.35783927e+00, -4.89266518e-01, -1.11279338e+00,\n",
       "        -3.64127683e-01],\n",
       "       [ 1.16183304e+00,  1.11323186e+00,  8.25282027e-01,\n",
       "        -5.75902041e-01],\n",
       "       [ 1.17908198e-01,  3.59390540e-01,  3.85614130e-02,\n",
       "        -9.48395404e-01],\n",
       "       [-2.18823467e-02, -1.08933436e+00, -4.61504014e-01,\n",
       "        -1.04546266e+00],\n",
       "       [-7.83600305e-01, -1.08168804e-01, -3.91883761e-01,\n",
       "        -1.04931420e+00],\n",
       "       [ 1.21311528e+00, -6.60208569e-01,  2.88121594e-01,\n",
       "        -6.96393257e-01],\n",
       "       [ 1.80918773e+00, -1.44607860e+00,  9.64417364e-01,\n",
       "         1.65143177e-01],\n",
       "       [ 4.22259632e+00, -2.14602480e-01, -3.80250575e+00,\n",
       "         2.53267622e+00],\n",
       "       [ 5.69048819e-01, -6.40045909e-01, -1.35108853e-01,\n",
       "        -1.01435903e+00],\n",
       "       [ 1.64170275e-01, -1.05471766e+00, -1.10125154e+00,\n",
       "        -6.22766219e-01],\n",
       "       [-1.67501738e+00, -1.00711404e+00,  1.47414550e+00,\n",
       "         6.41620014e-01],\n",
       "       [-5.62216333e-01, -3.39964044e-02,  6.02863481e-01,\n",
       "        -5.36006242e-01],\n",
       "       [ 8.55500965e-01, -1.75027888e-01, -1.90594455e+00,\n",
       "         2.41315925e-01],\n",
       "       [-1.91011427e+00,  7.21555077e-02,  4.34020167e-01,\n",
       "         4.45032936e-02],\n",
       "       [ 8.32868241e-01, -8.56133037e-01,  1.08113584e+00,\n",
       "        -5.51374732e-01],\n",
       "       [ 1.59387496e+00,  2.91674156e+00,  3.28592049e-01,\n",
       "        -1.38787830e+00],\n",
       "       [-3.36785351e+00, -2.22043263e-01,  1.49302029e+00,\n",
       "         2.51676777e+00],\n",
       "       [ 5.76636087e+00,  6.66532758e+00, -6.06540721e-01,\n",
       "         9.39792580e-02],\n",
       "       [ 2.02435213e+00,  1.04937929e+00,  8.88399286e-01,\n",
       "        -4.01835548e-01],\n",
       "       [ 2.27278256e+00,  1.92885709e-01,  8.17654883e-01,\n",
       "        -8.99712813e-02],\n",
       "       [-8.01178273e-01,  1.30306144e+00,  1.29191567e+00,\n",
       "        -9.14678130e-02],\n",
       "       [-1.18941007e+00, -5.55899166e-01,  7.19742944e-01,\n",
       "         5.36286247e-01],\n",
       "       [ 1.91147371e+00, -4.27379730e-01, -1.60578163e-01,\n",
       "        -4.63929746e-01],\n",
       "       [ 2.01184041e+00, -1.78410643e+00,  3.59263486e-01,\n",
       "         2.63806361e-01],\n",
       "       [-5.70173841e-01, -9.75831824e-01, -1.73405474e+00,\n",
       "        -1.35603332e+00],\n",
       "       [ 2.41111827e-02, -2.07539719e-02, -7.82989190e-03,\n",
       "        -1.21233529e+00],\n",
       "       [-2.30953610e+00, -7.59137232e-01, -7.04090940e-01,\n",
       "         4.96660985e-01],\n",
       "       [ 1.71859606e-01, -9.31602025e-02, -1.12768847e-02,\n",
       "        -3.79066626e-01],\n",
       "       [ 2.80882831e+00, -9.17065718e-01,  9.57646776e-02,\n",
       "         1.24676746e+00],\n",
       "       [ 4.07566977e+00, -4.30078593e-01,  2.91576875e-01,\n",
       "         2.30037792e+00],\n",
       "       [-1.23961331e+00, -2.30566550e-02,  1.72506469e-01,\n",
       "        -4.94805352e-01],\n",
       "       [-2.54765998e+00, -2.24109793e-01,  5.34170320e-02,\n",
       "         4.74189623e-01],\n",
       "       [ 9.21861928e-01,  8.23211307e-01, -3.83273206e-01,\n",
       "        -1.57741703e+00],\n",
       "       [-2.35628747e+00, -1.15246159e+00, -2.71515857e-01,\n",
       "         1.11905480e+00],\n",
       "       [-1.99465680e+00,  9.40740022e-01,  1.19090624e+00,\n",
       "         5.49802329e-01],\n",
       "       [-7.54578869e-01, -9.76784900e-02,  3.78919831e-01,\n",
       "        -8.50913132e-01],\n",
       "       [ 6.00271805e-01,  1.71561361e-01,  2.30754553e-01,\n",
       "        -1.12246291e+00],\n",
       "       [ 3.99995891e-01, -1.40835564e+00, -2.49547099e-01,\n",
       "        -5.53627421e-01],\n",
       "       [-4.67430215e-01,  1.27250952e+00, -7.01382312e-01,\n",
       "        -8.90072240e-01],\n",
       "       [-2.84511651e+00, -3.55773054e-01,  7.21608372e-01,\n",
       "         1.27701880e+00],\n",
       "       [ 3.05515732e-01, -7.89035224e-02,  1.63146872e-01,\n",
       "        -9.12769273e-01],\n",
       "       [ 2.42004155e+00,  1.15363414e+00, -1.83994823e+00,\n",
       "         3.20037570e-01],\n",
       "       [ 2.06083639e+00, -1.53546615e+00,  2.41306837e-01,\n",
       "         7.92146390e-01],\n",
       "       [ 2.63671368e+00, -2.98222684e+00,  1.82450184e+00,\n",
       "         2.75974721e+00],\n",
       "       [ 6.15859112e-01, -1.42647420e+00,  2.37843181e-01,\n",
       "        -3.64886708e-01],\n",
       "       [-8.48366309e-01, -6.39288224e-01, -5.91582824e-01,\n",
       "        -7.23766089e-01],\n",
       "       [-8.20419182e-01,  6.27187428e-01,  3.42184914e-01,\n",
       "        -6.99272392e-01],\n",
       "       [-5.35820034e-01, -1.17379783e+00, -2.91353712e+00,\n",
       "        -1.25712670e-01],\n",
       "       [ 5.01259187e-01,  1.40378986e+00,  3.21252265e-01,\n",
       "        -1.11266734e+00],\n",
       "       [-1.87685988e+00, -9.31740730e-02, -1.05218333e+00,\n",
       "         5.62312598e-02],\n",
       "       [-2.85542136e+00,  4.82031754e-01, -2.28097929e-01,\n",
       "         8.25558044e-01]])"
      ]
     },
     "execution_count": 205,
     "metadata": {},
     "output_type": "execute_result"
    }
   ],
   "source": [
    "df_train_pca"
   ]
  },
  {
   "cell_type": "code",
   "execution_count": 172,
   "metadata": {},
   "outputs": [
    {
     "name": "stdout",
     "output_type": "stream",
     "text": [
      "        Comp1     Comp2     Comp3     Comp4\n",
      "0   -2.905050  0.088089  0.718841  0.993710\n",
      "1    0.428070 -0.586096  0.320090 -1.167681\n",
      "2   -0.282140 -0.445318 -1.221462 -0.847578\n",
      "3   -2.922180  1.694341 -1.517172  0.873340\n",
      "4    1.028893  0.130097  0.192344 -0.842275\n",
      "5    0.028385 -1.751453 -0.791141 -0.052329\n",
      "6   -0.102541 -0.565774 -0.276836 -1.453948\n",
      "7    2.332441 -1.992128 -0.236341  1.129095\n",
      "8    2.964942 -0.732646  0.546776  1.188985\n",
      "9   -0.179466 -0.392572 -0.861664 -0.425377\n",
      "10   1.262278 -0.663093  0.452173  0.059300\n",
      "11   1.665727  0.558714 -1.017109 -0.177980\n",
      "12  -1.124037 -0.966077 -0.609811 -1.159623\n",
      "13   1.076855 -0.485220  0.647580 -0.531959\n",
      "14   0.581791  0.551733 -0.429355 -1.050560\n",
      "15   3.136005  0.665277  0.705964  1.064053\n",
      "16   0.208717  0.688145  0.229818 -1.087832\n",
      "17  -2.671162  0.390062  0.138931  0.320869\n",
      "18  -0.157122  0.774914  0.268925 -1.043274\n",
      "19  -0.792149 -0.122805 -0.434579 -0.706632\n",
      "20   0.994795 -0.963264  1.580119 -0.675520\n",
      "21  -0.878901  0.460547  0.618508  0.383364\n",
      "22   0.141458 -2.139587  0.182588 -0.177558\n",
      "23   2.452577  0.020980 -3.065521  0.857740\n",
      "24   0.902715  0.026739  0.449394 -0.999961\n",
      "25  -3.115829  0.023245  0.409468  1.093647\n",
      "26  -2.886928 -0.418464  1.430150  1.767826\n",
      "27  -0.582492  0.885921  0.471175 -0.806824\n",
      "28  -2.805745  0.054445  0.238061  0.579209\n",
      "29   2.536307 -1.721385  0.419865  1.323526\n",
      "..        ...       ...       ...       ...\n",
      "137 -1.189410 -0.555899  0.719743  0.536286\n",
      "138  1.911474 -0.427380 -0.160578 -0.463930\n",
      "139  2.011840 -1.784106  0.359263  0.263806\n",
      "140 -0.570174 -0.975832 -1.734055 -1.356033\n",
      "141  0.024111 -0.020754 -0.007830 -1.212335\n",
      "142 -2.309536 -0.759137 -0.704091  0.496661\n",
      "143  0.171860 -0.093160 -0.011277 -0.379067\n",
      "144  2.808828 -0.917066  0.095765  1.246767\n",
      "145  4.075670 -0.430079  0.291577  2.300378\n",
      "146 -1.239613 -0.023057  0.172506 -0.494805\n",
      "147 -2.547660 -0.224110  0.053417  0.474190\n",
      "148  0.921862  0.823211 -0.383273 -1.577417\n",
      "149 -2.356287 -1.152462 -0.271516  1.119055\n",
      "150 -1.994657  0.940740  1.190906  0.549802\n",
      "151 -0.754579 -0.097678  0.378920 -0.850913\n",
      "152  0.600272  0.171561  0.230755 -1.122463\n",
      "153  0.399996 -1.408356 -0.249547 -0.553627\n",
      "154 -0.467430  1.272510 -0.701382 -0.890072\n",
      "155 -2.845117 -0.355773  0.721608  1.277019\n",
      "156  0.305516 -0.078904  0.163147 -0.912769\n",
      "157  2.420042  1.153634 -1.839948  0.320038\n",
      "158  2.060836 -1.535466  0.241307  0.792146\n",
      "159  2.636714 -2.982227  1.824502  2.759747\n",
      "160  0.615859 -1.426474  0.237843 -0.364887\n",
      "161 -0.848366 -0.639288 -0.591583 -0.723766\n",
      "162 -0.820419  0.627187  0.342185 -0.699272\n",
      "163 -0.535820 -1.173798 -2.913537 -0.125713\n",
      "164  0.501259  1.403790  0.321252 -1.112667\n",
      "165 -1.876860 -0.093174 -1.052183  0.056231\n",
      "166 -2.855421  0.482032 -0.228098  0.825558\n",
      "\n",
      "[167 rows x 4 columns]\n"
     ]
    }
   ],
   "source": [
    "df_kmeans = pd.DataFrame({'Comp1':df_train_pca[:,0],'Comp2':df_train_pca[:,1] , 'Comp3' : df_train_pca[:,2] , 'Comp4' :df_train_pca[:,3]})\n",
    "print(df_kmeans)\n"
   ]
  },
  {
   "cell_type": "code",
   "execution_count": 173,
   "metadata": {},
   "outputs": [
    {
     "name": "stdout",
     "output_type": "stream",
     "text": [
      "['Comp1', 'Comp2', 'Comp3', 'Comp4']\n"
     ]
    }
   ],
   "source": [
    "colnames = list(df_kmeans.columns)\n",
    "print(colnames)\n",
    "#pcs_df = pd.Dataframe({'PC1':pca_components_[0],'PC2' : pca_components_[1] , 'Feature' :colnames})"
   ]
  },
  {
   "cell_type": "code",
   "execution_count": 174,
   "metadata": {},
   "outputs": [
    {
     "data": {
      "text/plain": [
       "0.829066357339715"
      ]
     },
     "execution_count": 174,
     "metadata": {},
     "output_type": "execute_result"
    }
   ],
   "source": [
    "hopkins(df_kmeans)"
   ]
  },
  {
   "cell_type": "code",
   "execution_count": 175,
   "metadata": {},
   "outputs": [],
   "source": [
    "#Importing Libraries\n",
    "import pandas as pd\n",
    "\n",
    "# For Visualisation\n",
    "import matplotlib.pyplot as plt\n",
    "import seaborn as sns\n",
    "%matplotlib inline\n",
    "\n",
    "# To Scale our data\n",
    "from sklearn.preprocessing import scale\n",
    "\n",
    "# To perform KMeans clustering \n",
    "from sklearn.cluster import KMeans\n",
    "\n",
    "# To perform Hierarchical clustering\n",
    "from scipy.cluster.hierarchy import linkage\n",
    "from scipy.cluster.hierarchy import dendrogram\n",
    "from scipy.cluster.hierarchy import cut_tree"
   ]
  },
  {
   "cell_type": "markdown",
   "metadata": {},
   "source": [
    "#### Kmeans with K=5\n",
    "model_clus5 = KMeans(n_clusters = 5, max_iter=50)\n",
    "model_clus5.fit(df_kmeans)"
   ]
  },
  {
   "cell_type": "code",
   "execution_count": 176,
   "metadata": {},
   "outputs": [],
   "source": [
    "## Silhouette Analysis\n",
    "\n",
    "#$$\\text{silhouette score}=\\frac{p-q}{max(p,q)}$$\n",
    "\n",
    "#$p$ is the mean distance to the points in the nearest cluster that the data point is not a part of\n",
    "\n",
    "#$q$ is the mean intra-cluster distance to all the points in its own cluster.\n",
    "\n",
    "#* The value of the silhouette score range lies between -1 to 1. \n",
    "\n",
    "#* A score closer to 1 indicates that the data point is very similar to other data points in the cluster, \n",
    "\n",
    "#* A score closer to -1 indicates that the data point is not similar to the data points in its cluster.\n",
    "\n",
    "from sklearn.metrics import silhouette_score\n",
    "sse_ = []\n",
    "for k in range(2, 15):\n",
    "    kmeans = KMeans(n_clusters=k).fit(df_kmeans)\n",
    "    sse_.append([k, silhouette_score(df_kmeans, kmeans.labels_)])"
   ]
  },
  {
   "cell_type": "code",
   "execution_count": 177,
   "metadata": {},
   "outputs": [
    {
     "data": {
      "image/png": "[encoded data removed]",
      "text/plain": [
       "<Figure size 432x288 with 1 Axes>"
      ]
     },
     "metadata": {
      "needs_background": "light"
     },
     "output_type": "display_data"
    }
   ],
   "source": [
    "\n",
    "\n",
    "plt.plot(pd.DataFrame(sse_)[0], pd.DataFrame(sse_)[1]);"
   ]
  },
  {
   "cell_type": "code",
   "execution_count": 178,
   "metadata": {},
   "outputs": [
    {
     "data": {
      "text/plain": [
       "[<matplotlib.lines.Line2D at 0x219fbb21c18>]"
      ]
     },
     "execution_count": 178,
     "metadata": {},
     "output_type": "execute_result"
    },
    {
     "data": {
      "image/png": "[encoded data removed]",
      "text/plain": [
       "<Figure size 432x288 with 1 Axes>"
      ]
     },
     "metadata": {
      "needs_background": "light"
     },
     "output_type": "display_data"
    }
   ],
   "source": [
    "# sum of squared distances\n",
    "ssd = []\n",
    "for num_clusters in list(range(1,21)):\n",
    "    model_clus = KMeans(n_clusters = num_clusters, max_iter=50)\n",
    "    model_clus.fit(df_kmeans)\n",
    "    ssd.append(model_clus.inertia_)\n",
    "\n",
    "plt.plot(ssd)"
   ]
  },
  {
   "cell_type": "code",
   "execution_count": 181,
   "metadata": {},
   "outputs": [],
   "source": [
    "# analysis of clusters Clu\n",
    "df_kmeans.index = pd.RangeIndex(len(df_kmeans.index))\n",
    "df_km = pd.concat([df_kmeans, pd.Series(model_clus5.labels_)], axis=1)\n",
    "df_km.columns = ['Comp1', 'Comp2', 'Comp3', 'Comp4' , 'ClusterID']\n",
    "\n",
    "df_clusters_col1 = \tpd.DataFrame(df_km.groupby([\"ClusterID\"]).Comp1.mean())\n",
    "df_clusters_col2 = \tpd.DataFrame(df_km.groupby([\"ClusterID\"]).Comp2.mean())\n",
    "df_clusters_col3 = \tpd.DataFrame(df_km.groupby([\"ClusterID\"]).Comp3.mean())\n",
    "\n",
    "df_clusters_col4 = \tpd.DataFrame(df_km.groupby([\"ClusterID\"]).Comp4.mean())\n"
   ]
  },
  {
   "cell_type": "code",
   "execution_count": 196,
   "metadata": {},
   "outputs": [
    {
     "data": {
      "text/html": [
       "<div>\n",
       "<style scoped>\n",
       "    .dataframe tbody tr th:only-of-type {\n",
       "        vertical-align: middle;\n",
       "    }\n",
       "\n",
       "    .dataframe tbody tr th {\n",
       "        vertical-align: top;\n",
       "    }\n",
       "\n",
       "    .dataframe thead th {\n",
       "        text-align: right;\n",
       "    }\n",
       "</style>\n",
       "<table border=\"1\" class=\"dataframe\">\n",
       "  <thead>\n",
       "    <tr style=\"text-align: right;\">\n",
       "      <th></th>\n",
       "      <th>Comp1</th>\n",
       "      <th>Comp2</th>\n",
       "      <th>Comp3</th>\n",
       "      <th>Comp4</th>\n",
       "      <th>ClusterID</th>\n",
       "    </tr>\n",
       "  </thead>\n",
       "  <tbody>\n",
       "    <tr>\n",
       "      <th>0</th>\n",
       "      <td>-2.905050</td>\n",
       "      <td>0.088089</td>\n",
       "      <td>0.718841</td>\n",
       "      <td>0.993710</td>\n",
       "      <td>3</td>\n",
       "    </tr>\n",
       "    <tr>\n",
       "      <th>1</th>\n",
       "      <td>0.428070</td>\n",
       "      <td>-0.586096</td>\n",
       "      <td>0.320090</td>\n",
       "      <td>-1.167681</td>\n",
       "      <td>0</td>\n",
       "    </tr>\n",
       "    <tr>\n",
       "      <th>2</th>\n",
       "      <td>-0.282140</td>\n",
       "      <td>-0.445318</td>\n",
       "      <td>-1.221462</td>\n",
       "      <td>-0.847578</td>\n",
       "      <td>2</td>\n",
       "    </tr>\n",
       "    <tr>\n",
       "      <th>3</th>\n",
       "      <td>-2.922180</td>\n",
       "      <td>1.694341</td>\n",
       "      <td>-1.517172</td>\n",
       "      <td>0.873340</td>\n",
       "      <td>3</td>\n",
       "    </tr>\n",
       "    <tr>\n",
       "      <th>4</th>\n",
       "      <td>1.028893</td>\n",
       "      <td>0.130097</td>\n",
       "      <td>0.192344</td>\n",
       "      <td>-0.842275</td>\n",
       "      <td>0</td>\n",
       "    </tr>\n",
       "  </tbody>\n",
       "</table>\n",
       "</div>"
      ],
      "text/plain": [
       "      Comp1     Comp2     Comp3     Comp4  ClusterID\n",
       "0 -2.905050  0.088089  0.718841  0.993710          3\n",
       "1  0.428070 -0.586096  0.320090 -1.167681          0\n",
       "2 -0.282140 -0.445318 -1.221462 -0.847578          2\n",
       "3 -2.922180  1.694341 -1.517172  0.873340          3\n",
       "4  1.028893  0.130097  0.192344 -0.842275          0"
      ]
     },
     "execution_count": 196,
     "metadata": {},
     "output_type": "execute_result"
    }
   ],
   "source": [
    "df_km.head()"
   ]
  },
  {
   "cell_type": "code",
   "execution_count": 182,
   "metadata": {},
   "outputs": [
    {
     "name": "stderr",
     "output_type": "stream",
     "text": [
      "C:\\Users\\bindh\\AppData\\Local\\Continuum\\anaconda3\\lib\\site-packages\\scipy\\stats\\stats.py:1713: FutureWarning: Using a non-tuple sequence for multidimensional indexing is deprecated; use `arr[tuple(seq)]` instead of `arr[seq]`. In the future this will be interpreted as an array index, `arr[np.array(seq)]`, which will result either in an error or a different result.\n",
      "  return np.add.reduce(sorted[indexer] * weights, axis=axis) / sumval\n"
     ]
    },
    {
     "data": {
      "text/plain": [
       "<matplotlib.axes._subplots.AxesSubplot at 0x219fbca5dd8>"
      ]
     },
     "execution_count": 182,
     "metadata": {},
     "output_type": "execute_result"
    },
    {
     "data": {
      "image/png": "[encoded data removed]",
      "text/plain": [
       "<Figure size 432x288 with 1 Axes>"
      ]
     },
     "metadata": {
      "needs_background": "light"
     },
     "output_type": "display_data"
    }
   ],
   "source": [
    "sns.barplot(x=df_km.ClusterID, y=df_km.Comp1)\n"
   ]
  },
  {
   "cell_type": "code",
   "execution_count": 184,
   "metadata": {},
   "outputs": [
    {
     "name": "stderr",
     "output_type": "stream",
     "text": [
      "C:\\Users\\bindh\\AppData\\Local\\Continuum\\anaconda3\\lib\\site-packages\\scipy\\stats\\stats.py:1713: FutureWarning: Using a non-tuple sequence for multidimensional indexing is deprecated; use `arr[tuple(seq)]` instead of `arr[seq]`. In the future this will be interpreted as an array index, `arr[np.array(seq)]`, which will result either in an error or a different result.\n",
      "  return np.add.reduce(sorted[indexer] * weights, axis=axis) / sumval\n"
     ]
    },
    {
     "data": {
      "text/plain": [
       "<matplotlib.axes._subplots.AxesSubplot at 0x219fceb0160>"
      ]
     },
     "execution_count": 184,
     "metadata": {},
     "output_type": "execute_result"
    },
    {
     "data": {
      "image/png": "[encoded data removed]",
      "text/plain": [
       "<Figure size 432x288 with 1 Axes>"
      ]
     },
     "metadata": {
      "needs_background": "light"
     },
     "output_type": "display_data"
    }
   ],
   "source": [
    "sns.barplot(x=df_km.ClusterID, y=df_km.Comp2)"
   ]
  },
  {
   "cell_type": "code",
   "execution_count": 185,
   "metadata": {},
   "outputs": [
    {
     "name": "stderr",
     "output_type": "stream",
     "text": [
      "C:\\Users\\bindh\\AppData\\Local\\Continuum\\anaconda3\\lib\\site-packages\\scipy\\stats\\stats.py:1713: FutureWarning: Using a non-tuple sequence for multidimensional indexing is deprecated; use `arr[tuple(seq)]` instead of `arr[seq]`. In the future this will be interpreted as an array index, `arr[np.array(seq)]`, which will result either in an error or a different result.\n",
      "  return np.add.reduce(sorted[indexer] * weights, axis=axis) / sumval\n"
     ]
    },
    {
     "data": {
      "text/plain": [
       "<matplotlib.axes._subplots.AxesSubplot at 0x219fcef9780>"
      ]
     },
     "execution_count": 185,
     "metadata": {},
     "output_type": "execute_result"
    },
    {
     "data": {
      "image/png": "[encoded data removed]",
      "text/plain": [
       "<Figure size 432x288 with 1 Axes>"
      ]
     },
     "metadata": {
      "needs_background": "light"
     },
     "output_type": "display_data"
    }
   ],
   "source": [
    "sns.barplot(x=df_km.ClusterID, y=df_km.Comp3)"
   ]
  },
  {
   "cell_type": "code",
   "execution_count": 187,
   "metadata": {},
   "outputs": [
    {
     "name": "stderr",
     "output_type": "stream",
     "text": [
      "C:\\Users\\bindh\\AppData\\Local\\Continuum\\anaconda3\\lib\\site-packages\\scipy\\stats\\stats.py:1713: FutureWarning: Using a non-tuple sequence for multidimensional indexing is deprecated; use `arr[tuple(seq)]` instead of `arr[seq]`. In the future this will be interpreted as an array index, `arr[np.array(seq)]`, which will result either in an error or a different result.\n",
      "  return np.add.reduce(sorted[indexer] * weights, axis=axis) / sumval\n"
     ]
    },
    {
     "data": {
      "text/plain": [
       "<matplotlib.axes._subplots.AxesSubplot at 0x219fcf87828>"
      ]
     },
     "execution_count": 187,
     "metadata": {},
     "output_type": "execute_result"
    },
    {
     "data": {
      "image/png": "[encoded data removed]",
      "text/plain": [
       "<Figure size 432x288 with 1 Axes>"
      ]
     },
     "metadata": {
      "needs_background": "light"
     },
     "output_type": "display_data"
    }
   ],
   "source": [
    "sns.barplot(x=df_km.ClusterID, y=df_km.Comp4)"
   ]
  },
  {
   "cell_type": "code",
   "execution_count": 188,
   "metadata": {},
   "outputs": [
    {
     "data": {
      "image/png": "[encoded data removed]",
      "text/plain": [
       "<Figure size 432x288 with 1 Axes>"
      ]
     },
     "metadata": {
      "needs_background": "light"
     },
     "output_type": "display_data"
    }
   ],
   "source": [
    "# heirarchical clustering\n",
    "mergings = linkage(df_kmeans, method = \"single\", metric='euclidean')\n",
    "dendrogram(mergings)\n",
    "plt.show()"
   ]
  },
  {
   "cell_type": "code",
   "execution_count": 189,
   "metadata": {},
   "outputs": [
    {
     "data": {
      "image/png": "[encoded data removed]",
      "text/plain": [
       "<Figure size 432x288 with 1 Axes>"
      ]
     },
     "metadata": {
      "needs_background": "light"
     },
     "output_type": "display_data"
    }
   ],
   "source": [
    "mergings = linkage(df_kmeans, method = \"complete\", metric='euclidean')\n",
    "dendrogram(mergings)\n",
    "plt.show()"
   ]
  },
  {
   "cell_type": "code",
   "execution_count": 190,
   "metadata": {},
   "outputs": [],
   "source": [
    "clusterCut = pd.Series(cut_tree(mergings, n_clusters = 5).reshape(-1,))\n",
    "df_hc = pd.concat([df_kmeans, clusterCut], axis=1)\n",
    "df_hc.columns = ['Comp1', 'Comp2', 'Comp3', 'Comp4', 'ClusterID']"
   ]
  },
  {
   "cell_type": "code",
   "execution_count": 195,
   "metadata": {},
   "outputs": [
    {
     "data": {
      "text/html": [
       "<div>\n",
       "<style scoped>\n",
       "    .dataframe tbody tr th:only-of-type {\n",
       "        vertical-align: middle;\n",
       "    }\n",
       "\n",
       "    .dataframe tbody tr th {\n",
       "        vertical-align: top;\n",
       "    }\n",
       "\n",
       "    .dataframe thead th {\n",
       "        text-align: right;\n",
       "    }\n",
       "</style>\n",
       "<table border=\"1\" class=\"dataframe\">\n",
       "  <thead>\n",
       "    <tr style=\"text-align: right;\">\n",
       "      <th></th>\n",
       "      <th>Comp1</th>\n",
       "      <th>Comp2</th>\n",
       "      <th>Comp3</th>\n",
       "      <th>Comp4</th>\n",
       "      <th>ClusterID</th>\n",
       "    </tr>\n",
       "  </thead>\n",
       "  <tbody>\n",
       "    <tr>\n",
       "      <th>0</th>\n",
       "      <td>-2.905050</td>\n",
       "      <td>0.088089</td>\n",
       "      <td>0.718841</td>\n",
       "      <td>0.993710</td>\n",
       "      <td>0</td>\n",
       "    </tr>\n",
       "    <tr>\n",
       "      <th>1</th>\n",
       "      <td>0.428070</td>\n",
       "      <td>-0.586096</td>\n",
       "      <td>0.320090</td>\n",
       "      <td>-1.167681</td>\n",
       "      <td>0</td>\n",
       "    </tr>\n",
       "    <tr>\n",
       "      <th>2</th>\n",
       "      <td>-0.282140</td>\n",
       "      <td>-0.445318</td>\n",
       "      <td>-1.221462</td>\n",
       "      <td>-0.847578</td>\n",
       "      <td>0</td>\n",
       "    </tr>\n",
       "    <tr>\n",
       "      <th>3</th>\n",
       "      <td>-2.922180</td>\n",
       "      <td>1.694341</td>\n",
       "      <td>-1.517172</td>\n",
       "      <td>0.873340</td>\n",
       "      <td>0</td>\n",
       "    </tr>\n",
       "    <tr>\n",
       "      <th>4</th>\n",
       "      <td>1.028893</td>\n",
       "      <td>0.130097</td>\n",
       "      <td>0.192344</td>\n",
       "      <td>-0.842275</td>\n",
       "      <td>0</td>\n",
       "    </tr>\n",
       "  </tbody>\n",
       "</table>\n",
       "</div>"
      ],
      "text/plain": [
       "      Comp1     Comp2     Comp3     Comp4  ClusterID\n",
       "0 -2.905050  0.088089  0.718841  0.993710          0\n",
       "1  0.428070 -0.586096  0.320090 -1.167681          0\n",
       "2 -0.282140 -0.445318 -1.221462 -0.847578          0\n",
       "3 -2.922180  1.694341 -1.517172  0.873340          0\n",
       "4  1.028893  0.130097  0.192344 -0.842275          0"
      ]
     },
     "execution_count": 195,
     "metadata": {},
     "output_type": "execute_result"
    }
   ],
   "source": [
    "df_hc.head()"
   ]
  },
  {
   "cell_type": "code",
   "execution_count": 256,
   "metadata": {},
   "outputs": [
    {
     "data": {
      "text/plain": [
       "5"
      ]
     },
     "execution_count": 256,
     "metadata": {},
     "output_type": "execute_result"
    }
   ],
   "source": [
    "#summarise\n",
    "df_clusters_col1 = pd.DataFrame(df_hc.groupby([\"ClusterID\"]).Comp1.mean())\n",
    "df_clusters_col2 = pd.DataFrame(df_hc.groupby([\"ClusterID\"]).Comp2.mean())\n",
    "df_clusters_col3 = \tpd.DataFrame(df_hc.groupby([\"ClusterID\"]).Comp3.mean())\n",
    "df_clusters_col4 = \tpd.DataFrame(df_hc.groupby([\"ClusterID\"]).Comp4.mean())\n",
    "#print(df_clusters_col1, df_clusters_col2, df_clusters_col3, df_clusters_col4)\n",
    "\n"
   ]
  },
  {
   "cell_type": "code",
   "execution_count": 203,
   "metadata": {},
   "outputs": [
    {
     "data": {
      "text/html": [
       "<div>\n",
       "<style scoped>\n",
       "    .dataframe tbody tr th:only-of-type {\n",
       "        vertical-align: middle;\n",
       "    }\n",
       "\n",
       "    .dataframe tbody tr th {\n",
       "        vertical-align: top;\n",
       "    }\n",
       "\n",
       "    .dataframe thead th {\n",
       "        text-align: right;\n",
       "    }\n",
       "</style>\n",
       "<table border=\"1\" class=\"dataframe\">\n",
       "  <thead>\n",
       "    <tr style=\"text-align: right;\">\n",
       "      <th></th>\n",
       "      <th>0</th>\n",
       "      <th>Comp1</th>\n",
       "      <th>Comp2</th>\n",
       "      <th>Comp3</th>\n",
       "      <th>Comp4</th>\n",
       "    </tr>\n",
       "  </thead>\n",
       "  <tbody>\n",
       "    <tr>\n",
       "      <th>0</th>\n",
       "      <td>0</td>\n",
       "      <td>-0.675637</td>\n",
       "      <td>0.040102</td>\n",
       "      <td>0.113760</td>\n",
       "      <td>-0.255450</td>\n",
       "    </tr>\n",
       "    <tr>\n",
       "      <th>1</th>\n",
       "      <td>1</td>\n",
       "      <td>2.433586</td>\n",
       "      <td>-0.789872</td>\n",
       "      <td>-0.299811</td>\n",
       "      <td>0.962806</td>\n",
       "    </tr>\n",
       "    <tr>\n",
       "      <th>2</th>\n",
       "      <td>2</td>\n",
       "      <td>6.331920</td>\n",
       "      <td>5.752845</td>\n",
       "      <td>-0.765213</td>\n",
       "      <td>1.617367</td>\n",
       "    </tr>\n",
       "    <tr>\n",
       "      <th>3</th>\n",
       "      <td>3</td>\n",
       "      <td>2.633871</td>\n",
       "      <td>3.843116</td>\n",
       "      <td>0.747731</td>\n",
       "      <td>-0.980400</td>\n",
       "    </tr>\n",
       "    <tr>\n",
       "      <th>4</th>\n",
       "      <td>4</td>\n",
       "      <td>-4.864295</td>\n",
       "      <td>0.040686</td>\n",
       "      <td>-5.573507</td>\n",
       "      <td>2.343059</td>\n",
       "    </tr>\n",
       "  </tbody>\n",
       "</table>\n",
       "</div>"
      ],
      "text/plain": [
       "   0     Comp1     Comp2     Comp3     Comp4\n",
       "0  0 -0.675637  0.040102  0.113760 -0.255450\n",
       "1  1  2.433586 -0.789872 -0.299811  0.962806\n",
       "2  2  6.331920  5.752845 -0.765213  1.617367\n",
       "3  3  2.633871  3.843116  0.747731 -0.980400\n",
       "4  4 -4.864295  0.040686 -5.573507  2.343059"
      ]
     },
     "execution_count": 203,
     "metadata": {},
     "output_type": "execute_result"
    }
   ],
   "source": [
    "df = pd.concat([pd.Series([0,1,2,3,4]), df_clusters_col1, df_clusters_col2, df_clusters_col3,df_clusters_col4], axis=1)\n",
    "df"
   ]
  },
  {
   "cell_type": "code",
   "execution_count": 249,
   "metadata": {},
   "outputs": [
    {
     "name": "stdout",
     "output_type": "stream",
     "text": [
      "                            country  child_mort  exports  health  imports  \\\n",
      "0                       Afghanistan        90.2    10.00    7.58     44.9   \n",
      "1                           Albania        16.6    28.00    6.55     48.6   \n",
      "2                           Algeria        27.3    38.40    4.17     31.4   \n",
      "3                            Angola       119.0    62.30    2.85     42.9   \n",
      "4               Antigua and Barbuda        10.3    45.50    6.03     58.9   \n",
      "5                         Argentina        14.5    18.90    8.10     16.0   \n",
      "6                           Armenia        18.1    20.80    4.40     45.3   \n",
      "9                        Azerbaijan        39.2    54.30    5.88     20.7   \n",
      "10                          Bahamas        13.8    35.00    7.89     43.7   \n",
      "12                       Bangladesh        49.4    16.00    3.52     21.8   \n",
      "13                         Barbados        14.2    39.50    7.97     48.7   \n",
      "14                          Belarus         5.5    51.40    5.61     64.5   \n",
      "16                           Belize        18.8    58.20    5.20     57.5   \n",
      "17                            Benin       111.0    23.80    4.10     37.2   \n",
      "18                           Bhutan        42.7    42.50    5.20     70.7   \n",
      "19                          Bolivia        46.6    41.20    4.84     34.3   \n",
      "20           Bosnia and Herzegovina         6.9    29.70   11.10     51.3   \n",
      "21                         Botswana        52.5    43.60    8.30     51.3   \n",
      "22                           Brazil        19.8    10.70    9.01     11.8   \n",
      "24                         Bulgaria        10.8    50.20    6.87     53.0   \n",
      "25                     Burkina Faso       116.0    19.20    6.74     29.6   \n",
      "26                          Burundi        93.6     8.92   11.60     39.2   \n",
      "27                         Cambodia        44.4    54.10    5.68     59.5   \n",
      "28                         Cameroon       108.0    22.20    5.13     27.0   \n",
      "30                       Cape Verde        26.5    32.70    4.09     61.8   \n",
      "31         Central African Republic       149.0    11.80    3.98     26.5   \n",
      "32                             Chad       150.0    36.80    4.53     43.5   \n",
      "33                            Chile         8.7    37.70    7.96     31.3   \n",
      "34                            China        15.7    26.30    5.07     22.6   \n",
      "35                         Colombia        18.6    15.90    7.59     17.8   \n",
      "..                              ...         ...      ...     ...      ...   \n",
      "129                         Senegal        66.8    24.90    5.66     40.3   \n",
      "130                          Serbia         7.6    32.90   10.40     47.9   \n",
      "132                    Sierra Leone       160.0    16.80   13.10     34.5   \n",
      "134                 Slovak Republic         7.0    76.30    8.79     77.8   \n",
      "135                        Slovenia         3.2    64.30    9.41     62.9   \n",
      "136                 Solomon Islands        28.1    49.30    8.55     81.2   \n",
      "137                    South Africa        53.7    28.60    8.94     27.4   \n",
      "138                     South Korea         4.1    49.40    6.93     46.2   \n",
      "140                       Sri Lanka        11.2    19.60    2.94     26.8   \n",
      "141  St. Vincent and the Grenadines        20.7    26.90    4.47     57.1   \n",
      "142                           Sudan        76.7    19.70    6.32     17.2   \n",
      "143                        Suriname        24.1    52.50    7.01     38.4   \n",
      "146                      Tajikistan        52.4    14.90    5.98     58.6   \n",
      "147                        Tanzania        71.9    18.70    6.01     29.1   \n",
      "148                        Thailand        14.9    66.50    3.88     60.8   \n",
      "149                     Timor-Leste        62.6     2.20    9.12     27.8   \n",
      "150                            Togo        90.3    40.20    7.65     57.3   \n",
      "151                           Tonga        17.4    12.40    5.07     60.3   \n",
      "152                         Tunisia        17.4    50.50    6.21     55.3   \n",
      "153                          Turkey        19.1    20.40    6.74     25.5   \n",
      "154                    Turkmenistan        62.0    76.30    2.50     44.5   \n",
      "155                          Uganda        81.0    17.10    9.01     28.6   \n",
      "156                         Ukraine        11.7    47.10    7.72     51.1   \n",
      "160                         Uruguay        10.6    26.30    8.35     25.4   \n",
      "161                      Uzbekistan        36.3    31.70    5.81     28.5   \n",
      "162                         Vanuatu        29.2    46.60    5.25     52.7   \n",
      "163                       Venezuela        17.1    28.50    4.91     17.6   \n",
      "164                         Vietnam        23.3    72.00    6.84     80.2   \n",
      "165                           Yemen        56.3    30.00    5.18     34.4   \n",
      "166                          Zambia        83.1    37.00    5.89     30.9   \n",
      "\n",
      "     income  inflation  life_expec  total_fer   gdpp     Comp1     Comp2  \\\n",
      "0      1610      9.440        56.2       5.82    553 -2.905050  0.088089   \n",
      "1      9930      4.490        76.3       1.65   4090  0.428070 -0.586096   \n",
      "2     12900     16.100        76.5       2.89   4460 -0.282140 -0.445318   \n",
      "3      5900     22.400        60.1       6.16   3530 -2.922180  1.694341   \n",
      "4     19100      1.440        76.8       2.13  12200  1.028893  0.130097   \n",
      "5     18700     20.900        75.8       2.37  10300  0.028385 -1.751453   \n",
      "6      6700      7.770        73.3       1.69   3220 -0.102541 -0.565774   \n",
      "9     16000     13.800        69.1       1.92   5840 -0.179466 -0.392572   \n",
      "10    22900     -0.393        73.8       1.86  28000  1.262278 -0.663093   \n",
      "12     2440      7.140        70.4       2.33    758 -1.124037 -0.966077   \n",
      "13    15300      0.321        76.7       1.78  16000  1.076855 -0.485220   \n",
      "14    16200     15.100        70.4       1.49   6030  0.581791  0.551733   \n",
      "16     7880      1.140        71.4       2.71   4340  0.208717  0.688145   \n",
      "17     1820      0.885        61.8       5.36    758 -2.671162  0.390062   \n",
      "18     6420      5.990        72.1       2.38   2180 -0.157122  0.774914   \n",
      "19     5410      8.780        71.6       3.20   1980 -0.792149 -0.122805   \n",
      "20     9720      1.400        76.8       1.31   4610  0.994795 -0.963264   \n",
      "21    13300      8.920        57.1       2.88   6350 -0.878901  0.460547   \n",
      "22    14500      8.410        74.2       1.80  11200  0.141458 -2.139587   \n",
      "24    15300      1.110        73.9       1.57   6840  0.902715  0.026739   \n",
      "25     1430      6.810        57.9       5.87    575 -3.115829  0.023245   \n",
      "26      764     12.300        57.7       6.26    231 -2.886928 -0.418464   \n",
      "27     2520      3.120        66.1       2.88    786 -0.582492  0.885921   \n",
      "28     2660      1.910        57.3       5.11   1310 -2.805745  0.054445   \n",
      "30     5830      0.505        72.5       2.67   3310 -0.159072  0.337665   \n",
      "31      888      2.010        47.5       5.21    446 -3.962472  0.356512   \n",
      "32     1930      6.390        56.5       6.59    897 -3.552165  1.263414   \n",
      "33    19400      8.960        79.1       1.88  12900  0.951015 -1.066046   \n",
      "34     9530      6.940        74.6       1.59   4560  0.056047 -1.187741   \n",
      "35    10900      3.860        76.4       2.01   6250  0.119866 -1.767496   \n",
      "..      ...        ...         ...        ...    ...       ...       ...   \n",
      "129    2180      1.850        64.0       5.06   1000 -1.910114  0.072156   \n",
      "130   12700      5.880        74.7       1.40   5410  0.832868 -0.856133   \n",
      "132    1220     17.200        55.0       5.20    399 -3.367854 -0.222043   \n",
      "134   25200      0.485        75.5       1.43  16600  2.024352  1.049379   \n",
      "135   28700     -0.987        79.5       1.57  23400  2.272783  0.192886   \n",
      "136    1780      6.810        61.7       4.24   1290 -0.801178  1.303061   \n",
      "137   12000      6.350        54.3       2.59   7280 -1.189410 -0.555899   \n",
      "138   30400      3.160        80.1       1.23  22100  1.911474 -0.427380   \n",
      "140    8560     22.800        74.4       2.20   2810 -0.570174 -0.975832   \n",
      "141    9920      4.440        71.6       2.07   6230  0.024111 -0.020754   \n",
      "142    3370     19.600        66.3       4.88   1480 -2.309536 -0.759137   \n",
      "143   14200      7.200        70.3       2.52   8300  0.171860 -0.093160   \n",
      "146    2110     12.500        69.6       3.51    738 -1.239613 -0.023057   \n",
      "147    2090      9.250        59.3       5.43    702 -2.547660 -0.224110   \n",
      "148   13500      4.080        76.6       1.55   5080  0.921862  0.823211   \n",
      "149    1850     26.500        71.1       6.23   3600 -2.356287 -1.152462   \n",
      "150    1210      1.180        58.7       4.87    488 -1.994657  0.940740   \n",
      "151    4980      3.680        69.9       3.91   3550 -0.754579 -0.097678   \n",
      "152   10400      3.820        76.9       2.14   4140  0.600272  0.171561   \n",
      "153   18000      7.010        78.2       2.15  10700  0.399996 -1.408356   \n",
      "154    9940      2.310        67.9       2.83   4440 -0.467430  1.272510   \n",
      "155    1540     10.600        56.8       6.15    595 -2.845117 -0.355773   \n",
      "156    7820     13.400        70.4       1.44   2970  0.305516 -0.078904   \n",
      "160   17100      4.910        76.4       2.08  11900  0.615859 -1.426474   \n",
      "161    4240     16.500        68.8       2.34   1380 -0.848366 -0.639288   \n",
      "162    2950      2.620        63.0       3.50   2970 -0.820419  0.627187   \n",
      "163   16500     45.900        75.4       2.47  13500 -0.535820 -1.173798   \n",
      "164    4490     12.100        73.1       1.95   1310  0.501259  1.403790   \n",
      "165    4480     23.600        67.5       4.67   1310 -1.876860 -0.093174   \n",
      "166    3280     14.000        52.0       5.40   1460 -2.855421  0.482032   \n",
      "\n",
      "        Comp3     Comp4  ClusterID  \n",
      "0    0.718841  0.993710          0  \n",
      "1    0.320090 -1.167681          0  \n",
      "2   -1.221462 -0.847578          0  \n",
      "3   -1.517172  0.873340          0  \n",
      "4    0.192344 -0.842275          0  \n",
      "5   -0.791141 -0.052329          0  \n",
      "6   -0.276836 -1.453948          0  \n",
      "9   -0.861664 -0.425377          0  \n",
      "10   0.452173  0.059300          0  \n",
      "12  -0.609811 -1.159623          0  \n",
      "13   0.647580 -0.531959          0  \n",
      "14  -0.429355 -1.050560          0  \n",
      "16   0.229818 -1.087832          0  \n",
      "17   0.138931  0.320869          0  \n",
      "18   0.268925 -1.043274          0  \n",
      "19  -0.434579 -0.706632          0  \n",
      "20   1.580119 -0.675520          0  \n",
      "21   0.618508  0.383364          0  \n",
      "22   0.182588 -0.177558          0  \n",
      "24   0.449394 -0.999961          0  \n",
      "25   0.409468  1.093647          0  \n",
      "26   1.430150  1.767826          0  \n",
      "27   0.471175 -0.806824          0  \n",
      "28   0.238061  0.579209          0  \n",
      "30   0.220015 -1.326860          0  \n",
      "31   0.185934  0.970087          0  \n",
      "32   0.025033  1.243340          0  \n",
      "33  -0.128737 -0.445369          0  \n",
      "34  -0.475812 -1.256294          0  \n",
      "35   0.211773 -0.712485          0  \n",
      "..        ...       ...        ...  \n",
      "129  0.434020  0.044503          0  \n",
      "130  1.081136 -0.551375          0  \n",
      "132  1.493020  2.516768          0  \n",
      "134  0.888399 -0.401836          0  \n",
      "135  0.817655 -0.089971          0  \n",
      "136  1.291916 -0.091468          0  \n",
      "137  0.719743  0.536286          0  \n",
      "138 -0.160578 -0.463930          0  \n",
      "140 -1.734055 -1.356033          0  \n",
      "141 -0.007830 -1.212335          0  \n",
      "142 -0.704091  0.496661          0  \n",
      "143 -0.011277 -0.379067          0  \n",
      "146  0.172506 -0.494805          0  \n",
      "147  0.053417  0.474190          0  \n",
      "148 -0.383273 -1.577417          0  \n",
      "149 -0.271516  1.119055          0  \n",
      "150  1.190906  0.549802          0  \n",
      "151  0.378920 -0.850913          0  \n",
      "152  0.230755 -1.122463          0  \n",
      "153 -0.249547 -0.553627          0  \n",
      "154 -0.701382 -0.890072          0  \n",
      "155  0.721608  1.277019          0  \n",
      "156  0.163147 -0.912769          0  \n",
      "160  0.237843 -0.364887          0  \n",
      "161 -0.591583 -0.723766          0  \n",
      "162  0.342185 -0.699272          0  \n",
      "163 -2.913537 -0.125713          0  \n",
      "164  0.321252 -1.112667          0  \n",
      "165 -1.052183  0.056231          0  \n",
      "166 -0.228098  0.825558          0  \n",
      "\n",
      "[131 rows x 15 columns]\n"
     ]
    }
   ],
   "source": [
    "clustered_df = pd.concat([df, df_hc], axis=1)\n",
    "countries_With_lower_metrics = clustered_df.loc[clustered_df['ClusterID'] == 0]\n",
    "\n",
    "print(countries_With_lower_metrics)"
   ]
  },
  {
   "cell_type": "code",
   "execution_count": 168,
   "metadata": {},
   "outputs": [
    {
     "data": {
      "text/plain": [
       "<matplotlib.axes._subplots.AxesSubplot at 0x219fbb8e630>"
      ]
     },
     "execution_count": 168,
     "metadata": {},
     "output_type": "execute_result"
    },
    {
     "data": {
      "image/png": "[encoded data removed]",
      "text/plain": [
       "<Figure size 432x288 with 1 Axes>"
      ]
     },
     "metadata": {
      "needs_background": "light"
     },
     "output_type": "display_data"
    }
   ],
   "source": [
    "#plotting barplot\n",
    "sns.barplot(x=df.Column1, y=df.Column2)"
   ]
  },
  {
   "cell_type": "code",
   "execution_count": 169,
   "metadata": {},
   "outputs": [
    {
     "data": {
      "text/plain": [
       "<matplotlib.axes._subplots.AxesSubplot at 0x219fb5abf28>"
      ]
     },
     "execution_count": 169,
     "metadata": {},
     "output_type": "execute_result"
    },
    {
     "data": {
      "image/png": "[encoded data removed]",
      "text/plain": [
       "<Figure size 432x288 with 1 Axes>"
      ]
     },
     "metadata": {
      "needs_background": "light"
     },
     "output_type": "display_data"
    }
   ],
   "source": [
    "sns.barplot(x=df.Column1, y=df.Column3)"
   ]
  },
  {
   "cell_type": "code",
   "execution_count": 170,
   "metadata": {},
   "outputs": [
    {
     "data": {
      "text/plain": [
       "<matplotlib.axes._subplots.AxesSubplot at 0x219fbd1e048>"
      ]
     },
     "execution_count": 170,
     "metadata": {},
     "output_type": "execute_result"
    },
    {
     "data": {
      "image/png": "[encoded data removed]",
      "text/plain": [
       "<Figure size 432x288 with 1 Axes>"
      ]
     },
     "metadata": {
      "needs_background": "light"
     },
     "output_type": "display_data"
    }
   ],
   "source": [
    "sns.barplot(x=df.Column1, y=df.Column4)"
   ]
  },
  {
   "cell_type": "code",
   "execution_count": 171,
   "metadata": {},
   "outputs": [
    {
     "data": {
      "text/plain": [
       "<matplotlib.axes._subplots.AxesSubplot at 0x219fbbb3358>"
      ]
     },
     "execution_count": 171,
     "metadata": {},
     "output_type": "execute_result"
    },
    {
     "data": {
      "image/png": "[encoded data removed]",
      "text/plain": [
       "<Figure size 432x288 with 1 Axes>"
      ]
     },
     "metadata": {
      "needs_background": "light"
     },
     "output_type": "display_data"
    }
   ],
   "source": [
    "sns.barplot(x=df.Column1, y=df.Column5)"
   ]
  },
  {
   "cell_type": "code",
   "execution_count": null,
   "metadata": {},
   "outputs": [],
   "source": []
  }
 ],
 "metadata": {
  "kernelspec": {
   "display_name": "Python 3",
   "language": "python",
   "name": "python3"
  },
  "language_info": {
   "codemirror_mode": {
    "name": "ipython",
    "version": 3
   },
   "file_extension": ".py",
   "mimetype": "text/x-python",
   "name": "python",
   "nbconvert_exporter": "python",
   "pygments_lexer": "ipython3",
   "version": "3.7.0"
  }
 },
 "nbformat": 4,
 "nbformat_minor": 2
}
